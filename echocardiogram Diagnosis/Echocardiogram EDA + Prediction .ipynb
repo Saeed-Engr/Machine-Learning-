{
 "cells": [
  {
   "cell_type": "markdown",
   "id": "43f23431",
   "metadata": {},
   "source": [
    "# Importing Libraries"
   ]
  },
  {
   "cell_type": "code",
   "execution_count": 135,
   "id": "7ff774b7",
   "metadata": {},
   "outputs": [],
   "source": [
    "%matplotlib inline\n",
    "import matplotlib.pyplot as plt #for data visualizing\n",
    "import seaborn as sns \n",
    "color = sns.color_palette()\n",
    "\n",
    "import numpy as np # linear algebra\n",
    "import pandas as pd # data processing, CSV file I/O (e.g. pd.read_csv)"
   ]
  },
  {
   "cell_type": "code",
   "execution_count": 136,
   "id": "4f34c149",
   "metadata": {},
   "outputs": [
    {
     "data": {
      "text/plain": [
       "'import pandas as pd\\nda = pd.read_fwf(\"E:/Paid Projects Dataset and Codes Upwork/echocardiogram.data\")\\nda.head()\\nda.shape\\n'"
      ]
     },
     "execution_count": 136,
     "metadata": {},
     "output_type": "execute_result"
    }
   ],
   "source": [
    "\"\"\"import pandas as pd\n",
    "da = pd.read_fwf(\"E:/Paid Projects Dataset and Codes Upwork/echocardiogram.data\")\n",
    "da.head()\n",
    "da.shape\n",
    "\"\"\""
   ]
  },
  {
   "cell_type": "markdown",
   "id": "10dcb2ad",
   "metadata": {},
   "source": [
    "# Reading and Exploring Data"
   ]
  },
  {
   "cell_type": "code",
   "execution_count": 137,
   "id": "15c86f91",
   "metadata": {},
   "outputs": [
    {
     "data": {
      "text/html": [
       "<div>\n",
       "<style scoped>\n",
       "    .dataframe tbody tr th:only-of-type {\n",
       "        vertical-align: middle;\n",
       "    }\n",
       "\n",
       "    .dataframe tbody tr th {\n",
       "        vertical-align: top;\n",
       "    }\n",
       "\n",
       "    .dataframe thead th {\n",
       "        text-align: right;\n",
       "    }\n",
       "</style>\n",
       "<table border=\"1\" class=\"dataframe\">\n",
       "  <thead>\n",
       "    <tr style=\"text-align: right;\">\n",
       "      <th></th>\n",
       "      <th>survival</th>\n",
       "      <th>alive</th>\n",
       "      <th>age</th>\n",
       "      <th>pericardialeffusion</th>\n",
       "      <th>fractionalshortening</th>\n",
       "      <th>epss</th>\n",
       "      <th>lvdd</th>\n",
       "      <th>wallmotion-score</th>\n",
       "      <th>wallmotion-index</th>\n",
       "      <th>mult</th>\n",
       "      <th>name</th>\n",
       "      <th>group</th>\n",
       "      <th>aliveat1</th>\n",
       "    </tr>\n",
       "  </thead>\n",
       "  <tbody>\n",
       "    <tr>\n",
       "      <th>0</th>\n",
       "      <td>11.0</td>\n",
       "      <td>0.0</td>\n",
       "      <td>71.0</td>\n",
       "      <td>0.0</td>\n",
       "      <td>0.260</td>\n",
       "      <td>9.000</td>\n",
       "      <td>4.600</td>\n",
       "      <td>14.0</td>\n",
       "      <td>1.00</td>\n",
       "      <td>1.000</td>\n",
       "      <td>name</td>\n",
       "      <td>1</td>\n",
       "      <td>0.0</td>\n",
       "    </tr>\n",
       "    <tr>\n",
       "      <th>1</th>\n",
       "      <td>19.0</td>\n",
       "      <td>0.0</td>\n",
       "      <td>72.0</td>\n",
       "      <td>0.0</td>\n",
       "      <td>0.380</td>\n",
       "      <td>6.000</td>\n",
       "      <td>4.100</td>\n",
       "      <td>14.0</td>\n",
       "      <td>1.70</td>\n",
       "      <td>0.588</td>\n",
       "      <td>name</td>\n",
       "      <td>1</td>\n",
       "      <td>0.0</td>\n",
       "    </tr>\n",
       "    <tr>\n",
       "      <th>2</th>\n",
       "      <td>16.0</td>\n",
       "      <td>0.0</td>\n",
       "      <td>55.0</td>\n",
       "      <td>0.0</td>\n",
       "      <td>0.260</td>\n",
       "      <td>4.000</td>\n",
       "      <td>3.420</td>\n",
       "      <td>14.0</td>\n",
       "      <td>1.00</td>\n",
       "      <td>1.000</td>\n",
       "      <td>name</td>\n",
       "      <td>1</td>\n",
       "      <td>0.0</td>\n",
       "    </tr>\n",
       "    <tr>\n",
       "      <th>3</th>\n",
       "      <td>57.0</td>\n",
       "      <td>0.0</td>\n",
       "      <td>60.0</td>\n",
       "      <td>0.0</td>\n",
       "      <td>0.253</td>\n",
       "      <td>12.062</td>\n",
       "      <td>4.603</td>\n",
       "      <td>16.0</td>\n",
       "      <td>1.45</td>\n",
       "      <td>0.788</td>\n",
       "      <td>name</td>\n",
       "      <td>1</td>\n",
       "      <td>0.0</td>\n",
       "    </tr>\n",
       "    <tr>\n",
       "      <th>4</th>\n",
       "      <td>19.0</td>\n",
       "      <td>1.0</td>\n",
       "      <td>57.0</td>\n",
       "      <td>0.0</td>\n",
       "      <td>0.160</td>\n",
       "      <td>22.000</td>\n",
       "      <td>5.750</td>\n",
       "      <td>18.0</td>\n",
       "      <td>2.25</td>\n",
       "      <td>0.571</td>\n",
       "      <td>name</td>\n",
       "      <td>1</td>\n",
       "      <td>0.0</td>\n",
       "    </tr>\n",
       "  </tbody>\n",
       "</table>\n",
       "</div>"
      ],
      "text/plain": [
       "   survival  alive   age  pericardialeffusion  fractionalshortening    epss  \\\n",
       "0      11.0    0.0  71.0                  0.0                 0.260   9.000   \n",
       "1      19.0    0.0  72.0                  0.0                 0.380   6.000   \n",
       "2      16.0    0.0  55.0                  0.0                 0.260   4.000   \n",
       "3      57.0    0.0  60.0                  0.0                 0.253  12.062   \n",
       "4      19.0    1.0  57.0                  0.0                 0.160  22.000   \n",
       "\n",
       "    lvdd  wallmotion-score  wallmotion-index   mult  name group  aliveat1  \n",
       "0  4.600              14.0              1.00  1.000  name     1       0.0  \n",
       "1  4.100              14.0              1.70  0.588  name     1       0.0  \n",
       "2  3.420              14.0              1.00  1.000  name     1       0.0  \n",
       "3  4.603              16.0              1.45  0.788  name     1       0.0  \n",
       "4  5.750              18.0              2.25  0.571  name     1       0.0  "
      ]
     },
     "execution_count": 137,
     "metadata": {},
     "output_type": "execute_result"
    }
   ],
   "source": [
    "data = pd.read_csv('E:/Paid Projects Dataset and Codes Upwork/echocardiogram.csv')\n",
    "data.head()"
   ]
  },
  {
   "cell_type": "code",
   "execution_count": 138,
   "id": "7088b44f",
   "metadata": {},
   "outputs": [
    {
     "data": {
      "text/plain": [
       "(133, 13)"
      ]
     },
     "execution_count": 138,
     "metadata": {},
     "output_type": "execute_result"
    }
   ],
   "source": [
    "data.shape"
   ]
  },
  {
   "cell_type": "code",
   "execution_count": 139,
   "id": "41f882cc",
   "metadata": {},
   "outputs": [
    {
     "name": "stdout",
     "output_type": "stream",
     "text": [
      "<class 'pandas.core.frame.DataFrame'>\n",
      "RangeIndex: 133 entries, 0 to 132\n",
      "Data columns (total 13 columns):\n",
      " #   Column                Non-Null Count  Dtype  \n",
      "---  ------                --------------  -----  \n",
      " 0   survival              130 non-null    float64\n",
      " 1   alive                 131 non-null    float64\n",
      " 2   age                   126 non-null    float64\n",
      " 3   pericardialeffusion   132 non-null    float64\n",
      " 4   fractionalshortening  124 non-null    float64\n",
      " 5   epss                  117 non-null    float64\n",
      " 6   lvdd                  121 non-null    float64\n",
      " 7   wallmotion-score      128 non-null    float64\n",
      " 8   wallmotion-index      130 non-null    float64\n",
      " 9   mult                  129 non-null    float64\n",
      " 10  name                  131 non-null    object \n",
      " 11  group                 110 non-null    object \n",
      " 12  aliveat1              75 non-null     float64\n",
      "dtypes: float64(11), object(2)\n",
      "memory usage: 13.6+ KB\n"
     ]
    }
   ],
   "source": [
    "data.info()"
   ]
  },
  {
   "cell_type": "code",
   "execution_count": 140,
   "id": "141583a6",
   "metadata": {},
   "outputs": [
    {
     "data": {
      "text/html": [
       "<div>\n",
       "<style scoped>\n",
       "    .dataframe tbody tr th:only-of-type {\n",
       "        vertical-align: middle;\n",
       "    }\n",
       "\n",
       "    .dataframe tbody tr th {\n",
       "        vertical-align: top;\n",
       "    }\n",
       "\n",
       "    .dataframe thead th {\n",
       "        text-align: right;\n",
       "    }\n",
       "</style>\n",
       "<table border=\"1\" class=\"dataframe\">\n",
       "  <thead>\n",
       "    <tr style=\"text-align: right;\">\n",
       "      <th></th>\n",
       "      <th>survival</th>\n",
       "      <th>alive</th>\n",
       "      <th>age</th>\n",
       "      <th>pericardialeffusion</th>\n",
       "      <th>fractionalshortening</th>\n",
       "      <th>epss</th>\n",
       "      <th>lvdd</th>\n",
       "      <th>wallmotion-score</th>\n",
       "      <th>wallmotion-index</th>\n",
       "      <th>mult</th>\n",
       "      <th>name</th>\n",
       "      <th>group</th>\n",
       "      <th>aliveat1</th>\n",
       "    </tr>\n",
       "  </thead>\n",
       "  <tbody>\n",
       "    <tr>\n",
       "      <th>128</th>\n",
       "      <td>7.5</td>\n",
       "      <td>1.0</td>\n",
       "      <td>64.0</td>\n",
       "      <td>0.0</td>\n",
       "      <td>0.24</td>\n",
       "      <td>12.9</td>\n",
       "      <td>4.72</td>\n",
       "      <td>12.0</td>\n",
       "      <td>1.000</td>\n",
       "      <td>0.857</td>\n",
       "      <td>name</td>\n",
       "      <td>NaN</td>\n",
       "      <td>NaN</td>\n",
       "    </tr>\n",
       "    <tr>\n",
       "      <th>129</th>\n",
       "      <td>41.0</td>\n",
       "      <td>0.0</td>\n",
       "      <td>64.0</td>\n",
       "      <td>0.0</td>\n",
       "      <td>0.28</td>\n",
       "      <td>5.4</td>\n",
       "      <td>5.47</td>\n",
       "      <td>11.0</td>\n",
       "      <td>1.100</td>\n",
       "      <td>0.714</td>\n",
       "      <td>name</td>\n",
       "      <td>NaN</td>\n",
       "      <td>NaN</td>\n",
       "    </tr>\n",
       "    <tr>\n",
       "      <th>130</th>\n",
       "      <td>36.0</td>\n",
       "      <td>0.0</td>\n",
       "      <td>69.0</td>\n",
       "      <td>0.0</td>\n",
       "      <td>0.20</td>\n",
       "      <td>7.0</td>\n",
       "      <td>5.05</td>\n",
       "      <td>14.5</td>\n",
       "      <td>1.210</td>\n",
       "      <td>0.857</td>\n",
       "      <td>name</td>\n",
       "      <td>NaN</td>\n",
       "      <td>NaN</td>\n",
       "    </tr>\n",
       "    <tr>\n",
       "      <th>131</th>\n",
       "      <td>22.0</td>\n",
       "      <td>0.0</td>\n",
       "      <td>57.0</td>\n",
       "      <td>0.0</td>\n",
       "      <td>0.14</td>\n",
       "      <td>16.1</td>\n",
       "      <td>4.36</td>\n",
       "      <td>15.0</td>\n",
       "      <td>1.360</td>\n",
       "      <td>0.786</td>\n",
       "      <td>name</td>\n",
       "      <td>NaN</td>\n",
       "      <td>NaN</td>\n",
       "    </tr>\n",
       "    <tr>\n",
       "      <th>132</th>\n",
       "      <td>20.0</td>\n",
       "      <td>0.0</td>\n",
       "      <td>62.0</td>\n",
       "      <td>0.0</td>\n",
       "      <td>0.15</td>\n",
       "      <td>0.0</td>\n",
       "      <td>4.51</td>\n",
       "      <td>15.5</td>\n",
       "      <td>1.409</td>\n",
       "      <td>0.786</td>\n",
       "      <td>name</td>\n",
       "      <td>NaN</td>\n",
       "      <td>NaN</td>\n",
       "    </tr>\n",
       "  </tbody>\n",
       "</table>\n",
       "</div>"
      ],
      "text/plain": [
       "     survival  alive   age  pericardialeffusion  fractionalshortening  epss  \\\n",
       "128       7.5    1.0  64.0                  0.0                  0.24  12.9   \n",
       "129      41.0    0.0  64.0                  0.0                  0.28   5.4   \n",
       "130      36.0    0.0  69.0                  0.0                  0.20   7.0   \n",
       "131      22.0    0.0  57.0                  0.0                  0.14  16.1   \n",
       "132      20.0    0.0  62.0                  0.0                  0.15   0.0   \n",
       "\n",
       "     lvdd  wallmotion-score  wallmotion-index   mult  name group  aliveat1  \n",
       "128  4.72              12.0             1.000  0.857  name   NaN       NaN  \n",
       "129  5.47              11.0             1.100  0.714  name   NaN       NaN  \n",
       "130  5.05              14.5             1.210  0.857  name   NaN       NaN  \n",
       "131  4.36              15.0             1.360  0.786  name   NaN       NaN  \n",
       "132  4.51              15.5             1.409  0.786  name   NaN       NaN  "
      ]
     },
     "execution_count": 140,
     "metadata": {},
     "output_type": "execute_result"
    }
   ],
   "source": [
    "data.tail()"
   ]
  },
  {
   "cell_type": "code",
   "execution_count": 141,
   "id": "0b8f6450",
   "metadata": {},
   "outputs": [
    {
     "data": {
      "text/plain": [
       "(133, 13)"
      ]
     },
     "execution_count": 141,
     "metadata": {},
     "output_type": "execute_result"
    }
   ],
   "source": [
    "data.shape"
   ]
  },
  {
   "cell_type": "code",
   "execution_count": null,
   "id": "42323cab",
   "metadata": {},
   "outputs": [],
   "source": []
  },
  {
   "cell_type": "markdown",
   "id": "831cde57",
   "metadata": {},
   "source": [
    "# Checking Missing Data"
   ]
  },
  {
   "cell_type": "code",
   "execution_count": 142,
   "id": "d77beb01",
   "metadata": {},
   "outputs": [
    {
     "name": "stdout",
     "output_type": "stream",
     "text": [
      "Total cols :  13  and total rows :  133\n"
     ]
    }
   ],
   "source": [
    "print('Total cols : ',data.shape[1],' and total rows : ',data.shape[0])\n"
   ]
  },
  {
   "cell_type": "code",
   "execution_count": 143,
   "id": "6be41b8e",
   "metadata": {},
   "outputs": [
    {
     "data": {
      "text/plain": [
       "survival                True\n",
       "alive                   True\n",
       "age                     True\n",
       "pericardialeffusion     True\n",
       "fractionalshortening    True\n",
       "epss                    True\n",
       "lvdd                    True\n",
       "wallmotion-score        True\n",
       "wallmotion-index        True\n",
       "mult                    True\n",
       "name                    True\n",
       "group                   True\n",
       "aliveat1                True\n",
       "dtype: bool"
      ]
     },
     "execution_count": 143,
     "metadata": {},
     "output_type": "execute_result"
    }
   ],
   "source": [
    "data.isnull().any()"
   ]
  },
  {
   "cell_type": "code",
   "execution_count": 144,
   "id": "dee11a19",
   "metadata": {},
   "outputs": [
    {
     "name": "stdout",
     "output_type": "stream",
     "text": [
      "Missing data sum :\n",
      "survival                 3\n",
      "alive                    2\n",
      "age                      7\n",
      "pericardialeffusion      1\n",
      "fractionalshortening     9\n",
      "epss                    16\n",
      "lvdd                    12\n",
      "wallmotion-score         5\n",
      "wallmotion-index         3\n",
      "mult                     4\n",
      "name                     2\n",
      "group                   23\n",
      "aliveat1                58\n",
      "dtype: int64\n",
      "\n",
      "Missing data percentage (%):\n",
      "survival                 2.307692\n",
      "alive                    1.526718\n",
      "age                      5.555556\n",
      "pericardialeffusion      0.757576\n",
      "fractionalshortening     7.258065\n",
      "epss                    13.675214\n",
      "lvdd                     9.917355\n",
      "wallmotion-score         3.906250\n",
      "wallmotion-index         2.307692\n",
      "mult                     3.100775\n",
      "name                     1.526718\n",
      "group                   20.909091\n",
      "aliveat1                77.333333\n",
      "dtype: float64\n"
     ]
    }
   ],
   "source": [
    "print('Missing data sum :')\n",
    "print(data.isnull().sum())\n",
    "\n",
    "print('\\nMissing data percentage (%):')\n",
    "print(data.isnull().sum()/data.count()*100)"
   ]
  },
  {
   "cell_type": "code",
   "execution_count": 145,
   "id": "8568a78c",
   "metadata": {},
   "outputs": [
    {
     "data": {
      "text/html": [
       "<div>\n",
       "<style scoped>\n",
       "    .dataframe tbody tr th:only-of-type {\n",
       "        vertical-align: middle;\n",
       "    }\n",
       "\n",
       "    .dataframe tbody tr th {\n",
       "        vertical-align: top;\n",
       "    }\n",
       "\n",
       "    .dataframe thead th {\n",
       "        text-align: right;\n",
       "    }\n",
       "</style>\n",
       "<table border=\"1\" class=\"dataframe\">\n",
       "  <thead>\n",
       "    <tr style=\"text-align: right;\">\n",
       "      <th></th>\n",
       "      <th>survival</th>\n",
       "      <th>alive</th>\n",
       "      <th>age</th>\n",
       "      <th>pericardialeffusion</th>\n",
       "      <th>fractionalshortening</th>\n",
       "      <th>epss</th>\n",
       "      <th>lvdd</th>\n",
       "      <th>wallmotion-score</th>\n",
       "      <th>wallmotion-index</th>\n",
       "      <th>mult</th>\n",
       "      <th>name</th>\n",
       "      <th>group</th>\n",
       "      <th>aliveat1</th>\n",
       "    </tr>\n",
       "  </thead>\n",
       "  <tbody>\n",
       "    <tr>\n",
       "      <th>Column Data Type</th>\n",
       "      <td>float64</td>\n",
       "      <td>float64</td>\n",
       "      <td>float64</td>\n",
       "      <td>float64</td>\n",
       "      <td>float64</td>\n",
       "      <td>float64</td>\n",
       "      <td>float64</td>\n",
       "      <td>float64</td>\n",
       "      <td>float64</td>\n",
       "      <td>float64</td>\n",
       "      <td>object</td>\n",
       "      <td>object</td>\n",
       "      <td>float64</td>\n",
       "    </tr>\n",
       "    <tr>\n",
       "      <th>Null Values</th>\n",
       "      <td>3</td>\n",
       "      <td>2</td>\n",
       "      <td>7</td>\n",
       "      <td>1</td>\n",
       "      <td>9</td>\n",
       "      <td>16</td>\n",
       "      <td>12</td>\n",
       "      <td>5</td>\n",
       "      <td>3</td>\n",
       "      <td>4</td>\n",
       "      <td>2</td>\n",
       "      <td>23</td>\n",
       "      <td>58</td>\n",
       "    </tr>\n",
       "  </tbody>\n",
       "</table>\n",
       "</div>"
      ],
      "text/plain": [
       "                 survival    alive      age pericardialeffusion  \\\n",
       "Column Data Type  float64  float64  float64             float64   \n",
       "Null Values             3        2        7                   1   \n",
       "\n",
       "                 fractionalshortening     epss     lvdd wallmotion-score  \\\n",
       "Column Data Type              float64  float64  float64          float64   \n",
       "Null Values                         9       16       12                5   \n",
       "\n",
       "                 wallmotion-index     mult    name   group aliveat1  \n",
       "Column Data Type          float64  float64  object  object  float64  \n",
       "Null Values                     3        4       2      23       58  "
      ]
     },
     "execution_count": 145,
     "metadata": {},
     "output_type": "execute_result"
    }
   ],
   "source": [
    "# summarize the data type and null values\n",
    "# just for better visual\n",
    "data_type = pd.DataFrame(data.dtypes).T.rename({0:'Column Data Type'})\n",
    "null_value = pd.DataFrame(data.isnull().sum()).T.rename({0:'Null Values'})\n",
    "\n",
    "# combine the data\n",
    "data_info = data_type.append(null_value)\n",
    "data_info"
   ]
  },
  {
   "cell_type": "code",
   "execution_count": 146,
   "id": "b8e88127",
   "metadata": {},
   "outputs": [
    {
     "name": "stderr",
     "output_type": "stream",
     "text": [
      "C:\\Users\\Rana Saeed\\Anaconda3\\lib\\site-packages\\seaborn\\_decorators.py:36: FutureWarning: Pass the following variables as keyword args: x, y. From version 0.12, the only valid positional argument will be `data`, and passing other arguments without an explicit keyword will result in an error or misinterpretation.\n",
      "  warnings.warn(\n"
     ]
    },
    {
     "data": {
      "image/png": "[encoded data removed]",
      "text/plain": [
       "<Figure size 1152x432 with 1 Axes>"
      ]
     },
     "metadata": {
      "needs_background": "light"
     },
     "output_type": "display_data"
    }
   ],
   "source": [
    "x=data.isnull().sum()\n",
    "x=x.sort_values(ascending=False)\n",
    "\n",
    "plt.figure(figsize=(16,6))\n",
    "ax= sns.barplot(x.index, x.values, alpha=0.9,color=color[9])\n",
    "locs, labels = plt.xticks()\n",
    "plt.setp(labels, rotation=60)\n",
    "plt.title(\"Missing value checking\",fontsize=20)\n",
    "plt.ylabel('Missing value sum', fontsize=16)\n",
    "plt.xlabel('Col name', fontsize=16)\n",
    "plt.show()"
   ]
  },
  {
   "cell_type": "code",
   "execution_count": null,
   "id": "4a839aca",
   "metadata": {},
   "outputs": [],
   "source": []
  },
  {
   "cell_type": "markdown",
   "id": "df1e7a9b",
   "metadata": {},
   "source": [
    "# Data Visualization"
   ]
  },
  {
   "cell_type": "code",
   "execution_count": 147,
   "id": "e060e9f9",
   "metadata": {},
   "outputs": [
    {
     "data": {
      "text/html": [
       "<div>\n",
       "<style scoped>\n",
       "    .dataframe tbody tr th:only-of-type {\n",
       "        vertical-align: middle;\n",
       "    }\n",
       "\n",
       "    .dataframe tbody tr th {\n",
       "        vertical-align: top;\n",
       "    }\n",
       "\n",
       "    .dataframe thead th {\n",
       "        text-align: right;\n",
       "    }\n",
       "</style>\n",
       "<table border=\"1\" class=\"dataframe\">\n",
       "  <thead>\n",
       "    <tr style=\"text-align: right;\">\n",
       "      <th></th>\n",
       "      <th>survival</th>\n",
       "      <th>alive</th>\n",
       "      <th>age</th>\n",
       "      <th>pericardialeffusion</th>\n",
       "      <th>fractionalshortening</th>\n",
       "      <th>epss</th>\n",
       "      <th>lvdd</th>\n",
       "      <th>wallmotion-score</th>\n",
       "      <th>wallmotion-index</th>\n",
       "      <th>mult</th>\n",
       "      <th>name</th>\n",
       "      <th>group</th>\n",
       "      <th>aliveat1</th>\n",
       "    </tr>\n",
       "  </thead>\n",
       "  <tbody>\n",
       "    <tr>\n",
       "      <th>82</th>\n",
       "      <td>27.0</td>\n",
       "      <td>0.0</td>\n",
       "      <td>54.0</td>\n",
       "      <td>1.0</td>\n",
       "      <td>0.07</td>\n",
       "      <td>16.8</td>\n",
       "      <td>4.16</td>\n",
       "      <td>18.0</td>\n",
       "      <td>1.5</td>\n",
       "      <td>0.857</td>\n",
       "      <td>name</td>\n",
       "      <td>2</td>\n",
       "      <td>0.0</td>\n",
       "    </tr>\n",
       "    <tr>\n",
       "      <th>83</th>\n",
       "      <td>23.0</td>\n",
       "      <td>0.0</td>\n",
       "      <td>62.0</td>\n",
       "      <td>0.0</td>\n",
       "      <td>0.25</td>\n",
       "      <td>6.0</td>\n",
       "      <td>4.48</td>\n",
       "      <td>11.0</td>\n",
       "      <td>1.0</td>\n",
       "      <td>0.786</td>\n",
       "      <td>name</td>\n",
       "      <td>2</td>\n",
       "      <td>NaN</td>\n",
       "    </tr>\n",
       "    <tr>\n",
       "      <th>7</th>\n",
       "      <td>50.0</td>\n",
       "      <td>0.0</td>\n",
       "      <td>60.0</td>\n",
       "      <td>0.0</td>\n",
       "      <td>0.33</td>\n",
       "      <td>8.0</td>\n",
       "      <td>5.25</td>\n",
       "      <td>14.0</td>\n",
       "      <td>1.0</td>\n",
       "      <td>1.000</td>\n",
       "      <td>name</td>\n",
       "      <td>1</td>\n",
       "      <td>0.0</td>\n",
       "    </tr>\n",
       "    <tr>\n",
       "      <th>112</th>\n",
       "      <td>13.0</td>\n",
       "      <td>0.0</td>\n",
       "      <td>66.0</td>\n",
       "      <td>0.0</td>\n",
       "      <td>0.24</td>\n",
       "      <td>13.6</td>\n",
       "      <td>4.38</td>\n",
       "      <td>22.0</td>\n",
       "      <td>2.2</td>\n",
       "      <td>0.714</td>\n",
       "      <td>name</td>\n",
       "      <td>NaN</td>\n",
       "      <td>NaN</td>\n",
       "    </tr>\n",
       "    <tr>\n",
       "      <th>51</th>\n",
       "      <td>2.0</td>\n",
       "      <td>1.0</td>\n",
       "      <td>56.0</td>\n",
       "      <td>1.0</td>\n",
       "      <td>0.04</td>\n",
       "      <td>14.0</td>\n",
       "      <td>5.00</td>\n",
       "      <td>NaN</td>\n",
       "      <td>NaN</td>\n",
       "      <td>NaN</td>\n",
       "      <td>name</td>\n",
       "      <td>2</td>\n",
       "      <td>1.0</td>\n",
       "    </tr>\n",
       "  </tbody>\n",
       "</table>\n",
       "</div>"
      ],
      "text/plain": [
       "     survival  alive   age  pericardialeffusion  fractionalshortening  epss  \\\n",
       "82       27.0    0.0  54.0                  1.0                  0.07  16.8   \n",
       "83       23.0    0.0  62.0                  0.0                  0.25   6.0   \n",
       "7        50.0    0.0  60.0                  0.0                  0.33   8.0   \n",
       "112      13.0    0.0  66.0                  0.0                  0.24  13.6   \n",
       "51        2.0    1.0  56.0                  1.0                  0.04  14.0   \n",
       "\n",
       "     lvdd  wallmotion-score  wallmotion-index   mult  name group  aliveat1  \n",
       "82   4.16              18.0               1.5  0.857  name     2       0.0  \n",
       "83   4.48              11.0               1.0  0.786  name     2       NaN  \n",
       "7    5.25              14.0               1.0  1.000  name     1       0.0  \n",
       "112  4.38              22.0               2.2  0.714  name   NaN       NaN  \n",
       "51   5.00               NaN               NaN    NaN  name     2       1.0  "
      ]
     },
     "execution_count": 147,
     "metadata": {},
     "output_type": "execute_result"
    }
   ],
   "source": [
    "data.sample(5)"
   ]
  },
  {
   "cell_type": "code",
   "execution_count": null,
   "id": "c05b5745",
   "metadata": {},
   "outputs": [],
   "source": []
  },
  {
   "cell_type": "markdown",
   "id": "dab18c25",
   "metadata": {},
   "source": [
    "Correlation\n",
    "-\n",
    "It's used to see the relationship between features\n",
    "\n",
    "- Correlation value is between -1 to 1\n",
    "- Correlation value = -1 means negative correlation. If 'X' goes bigger, 'Y' goes smaller\n",
    "- Correlation value = 1 means positive correlation. If 'X' goes bigger, 'Y' also goes bigger\n",
    "- Correlation value = 0 means, there's no correlation between 'X' and 'Y'"
   ]
  },
  {
   "cell_type": "code",
   "execution_count": 148,
   "id": "68b9b892",
   "metadata": {},
   "outputs": [
    {
     "data": {
      "text/plain": [
       "[Text(0.5, 1.0, 'Correlation Matrix')]"
      ]
     },
     "execution_count": 148,
     "metadata": {},
     "output_type": "execute_result"
    },
    {
     "data": {
      "image/png": "[encoded data removed]",
      "text/plain": [
       "<Figure size 864x720 with 2 Axes>"
      ]
     },
     "metadata": {
      "needs_background": "light"
     },
     "output_type": "display_data"
    }
   ],
   "source": [
    "# Correlation matrix\n",
    "corr = data.corr() \n",
    "plt.figure(figsize=(12,10))\n",
    "sns.heatmap(data=corr, annot=True, cmap='Spectral').set(title=\"Correlation Matrix\")"
   ]
  },
  {
   "cell_type": "code",
   "execution_count": 149,
   "id": "d0d659af",
   "metadata": {},
   "outputs": [
    {
     "data": {
      "text/html": [
       "<div>\n",
       "<style scoped>\n",
       "    .dataframe tbody tr th:only-of-type {\n",
       "        vertical-align: middle;\n",
       "    }\n",
       "\n",
       "    .dataframe tbody tr th {\n",
       "        vertical-align: top;\n",
       "    }\n",
       "\n",
       "    .dataframe thead th {\n",
       "        text-align: right;\n",
       "    }\n",
       "</style>\n",
       "<table border=\"1\" class=\"dataframe\">\n",
       "  <thead>\n",
       "    <tr style=\"text-align: right;\">\n",
       "      <th></th>\n",
       "      <th>survival</th>\n",
       "      <th>alive</th>\n",
       "      <th>age</th>\n",
       "      <th>pericardialeffusion</th>\n",
       "      <th>fractionalshortening</th>\n",
       "      <th>epss</th>\n",
       "      <th>lvdd</th>\n",
       "      <th>wallmotion-score</th>\n",
       "      <th>wallmotion-index</th>\n",
       "      <th>mult</th>\n",
       "      <th>aliveat1</th>\n",
       "    </tr>\n",
       "  </thead>\n",
       "  <tbody>\n",
       "    <tr>\n",
       "      <th>survival</th>\n",
       "      <td>1.00</td>\n",
       "      <td>-0.71</td>\n",
       "      <td>-0.21</td>\n",
       "      <td>-0.15</td>\n",
       "      <td>0.24</td>\n",
       "      <td>-0.30</td>\n",
       "      <td>-0.23</td>\n",
       "      <td>-0.29</td>\n",
       "      <td>-0.35</td>\n",
       "      <td>0.06</td>\n",
       "      <td>-0.76</td>\n",
       "    </tr>\n",
       "    <tr>\n",
       "      <th>alive</th>\n",
       "      <td>-0.71</td>\n",
       "      <td>1.00</td>\n",
       "      <td>0.30</td>\n",
       "      <td>0.17</td>\n",
       "      <td>-0.29</td>\n",
       "      <td>0.33</td>\n",
       "      <td>0.26</td>\n",
       "      <td>0.27</td>\n",
       "      <td>0.39</td>\n",
       "      <td>-0.14</td>\n",
       "      <td>0.86</td>\n",
       "    </tr>\n",
       "    <tr>\n",
       "      <th>age</th>\n",
       "      <td>-0.21</td>\n",
       "      <td>0.30</td>\n",
       "      <td>1.00</td>\n",
       "      <td>0.01</td>\n",
       "      <td>-0.08</td>\n",
       "      <td>0.05</td>\n",
       "      <td>0.17</td>\n",
       "      <td>0.04</td>\n",
       "      <td>0.05</td>\n",
       "      <td>-0.16</td>\n",
       "      <td>0.25</td>\n",
       "    </tr>\n",
       "    <tr>\n",
       "      <th>pericardialeffusion</th>\n",
       "      <td>-0.15</td>\n",
       "      <td>0.17</td>\n",
       "      <td>0.01</td>\n",
       "      <td>1.00</td>\n",
       "      <td>-0.01</td>\n",
       "      <td>0.07</td>\n",
       "      <td>0.06</td>\n",
       "      <td>0.14</td>\n",
       "      <td>0.12</td>\n",
       "      <td>0.47</td>\n",
       "      <td>0.39</td>\n",
       "    </tr>\n",
       "    <tr>\n",
       "      <th>fractionalshortening</th>\n",
       "      <td>0.24</td>\n",
       "      <td>-0.29</td>\n",
       "      <td>-0.08</td>\n",
       "      <td>-0.01</td>\n",
       "      <td>1.00</td>\n",
       "      <td>-0.36</td>\n",
       "      <td>-0.35</td>\n",
       "      <td>-0.17</td>\n",
       "      <td>-0.25</td>\n",
       "      <td>0.10</td>\n",
       "      <td>-0.29</td>\n",
       "    </tr>\n",
       "    <tr>\n",
       "      <th>epss</th>\n",
       "      <td>-0.30</td>\n",
       "      <td>0.33</td>\n",
       "      <td>0.05</td>\n",
       "      <td>0.07</td>\n",
       "      <td>-0.36</td>\n",
       "      <td>1.00</td>\n",
       "      <td>0.62</td>\n",
       "      <td>0.37</td>\n",
       "      <td>0.41</td>\n",
       "      <td>-0.09</td>\n",
       "      <td>0.31</td>\n",
       "    </tr>\n",
       "    <tr>\n",
       "      <th>lvdd</th>\n",
       "      <td>-0.23</td>\n",
       "      <td>0.26</td>\n",
       "      <td>0.17</td>\n",
       "      <td>0.06</td>\n",
       "      <td>-0.35</td>\n",
       "      <td>0.62</td>\n",
       "      <td>1.00</td>\n",
       "      <td>0.15</td>\n",
       "      <td>0.25</td>\n",
       "      <td>-0.17</td>\n",
       "      <td>0.28</td>\n",
       "    </tr>\n",
       "    <tr>\n",
       "      <th>wallmotion-score</th>\n",
       "      <td>-0.29</td>\n",
       "      <td>0.27</td>\n",
       "      <td>0.04</td>\n",
       "      <td>0.14</td>\n",
       "      <td>-0.17</td>\n",
       "      <td>0.37</td>\n",
       "      <td>0.15</td>\n",
       "      <td>1.00</td>\n",
       "      <td>0.65</td>\n",
       "      <td>0.22</td>\n",
       "      <td>0.42</td>\n",
       "    </tr>\n",
       "    <tr>\n",
       "      <th>wallmotion-index</th>\n",
       "      <td>-0.35</td>\n",
       "      <td>0.39</td>\n",
       "      <td>0.05</td>\n",
       "      <td>0.12</td>\n",
       "      <td>-0.25</td>\n",
       "      <td>0.41</td>\n",
       "      <td>0.25</td>\n",
       "      <td>0.65</td>\n",
       "      <td>1.00</td>\n",
       "      <td>-0.34</td>\n",
       "      <td>0.53</td>\n",
       "    </tr>\n",
       "    <tr>\n",
       "      <th>mult</th>\n",
       "      <td>0.06</td>\n",
       "      <td>-0.14</td>\n",
       "      <td>-0.16</td>\n",
       "      <td>0.47</td>\n",
       "      <td>0.10</td>\n",
       "      <td>-0.09</td>\n",
       "      <td>-0.17</td>\n",
       "      <td>0.22</td>\n",
       "      <td>-0.34</td>\n",
       "      <td>1.00</td>\n",
       "      <td>0.15</td>\n",
       "    </tr>\n",
       "    <tr>\n",
       "      <th>aliveat1</th>\n",
       "      <td>-0.76</td>\n",
       "      <td>0.86</td>\n",
       "      <td>0.25</td>\n",
       "      <td>0.39</td>\n",
       "      <td>-0.29</td>\n",
       "      <td>0.31</td>\n",
       "      <td>0.28</td>\n",
       "      <td>0.42</td>\n",
       "      <td>0.53</td>\n",
       "      <td>0.15</td>\n",
       "      <td>1.00</td>\n",
       "    </tr>\n",
       "  </tbody>\n",
       "</table>\n",
       "</div>"
      ],
      "text/plain": [
       "                      survival  alive   age  pericardialeffusion  \\\n",
       "survival                  1.00  -0.71 -0.21                -0.15   \n",
       "alive                    -0.71   1.00  0.30                 0.17   \n",
       "age                      -0.21   0.30  1.00                 0.01   \n",
       "pericardialeffusion      -0.15   0.17  0.01                 1.00   \n",
       "fractionalshortening      0.24  -0.29 -0.08                -0.01   \n",
       "epss                     -0.30   0.33  0.05                 0.07   \n",
       "lvdd                     -0.23   0.26  0.17                 0.06   \n",
       "wallmotion-score         -0.29   0.27  0.04                 0.14   \n",
       "wallmotion-index         -0.35   0.39  0.05                 0.12   \n",
       "mult                      0.06  -0.14 -0.16                 0.47   \n",
       "aliveat1                 -0.76   0.86  0.25                 0.39   \n",
       "\n",
       "                      fractionalshortening  epss  lvdd  wallmotion-score  \\\n",
       "survival                              0.24 -0.30 -0.23             -0.29   \n",
       "alive                                -0.29  0.33  0.26              0.27   \n",
       "age                                  -0.08  0.05  0.17              0.04   \n",
       "pericardialeffusion                  -0.01  0.07  0.06              0.14   \n",
       "fractionalshortening                  1.00 -0.36 -0.35             -0.17   \n",
       "epss                                 -0.36  1.00  0.62              0.37   \n",
       "lvdd                                 -0.35  0.62  1.00              0.15   \n",
       "wallmotion-score                     -0.17  0.37  0.15              1.00   \n",
       "wallmotion-index                     -0.25  0.41  0.25              0.65   \n",
       "mult                                  0.10 -0.09 -0.17              0.22   \n",
       "aliveat1                             -0.29  0.31  0.28              0.42   \n",
       "\n",
       "                      wallmotion-index  mult  aliveat1  \n",
       "survival                         -0.35  0.06     -0.76  \n",
       "alive                             0.39 -0.14      0.86  \n",
       "age                               0.05 -0.16      0.25  \n",
       "pericardialeffusion               0.12  0.47      0.39  \n",
       "fractionalshortening             -0.25  0.10     -0.29  \n",
       "epss                              0.41 -0.09      0.31  \n",
       "lvdd                              0.25 -0.17      0.28  \n",
       "wallmotion-score                  0.65  0.22      0.42  \n",
       "wallmotion-index                  1.00 -0.34      0.53  \n",
       "mult                             -0.34  1.00      0.15  \n",
       "aliveat1                          0.53  0.15      1.00  "
      ]
     },
     "execution_count": 149,
     "metadata": {},
     "output_type": "execute_result"
    }
   ],
   "source": [
    "corr_matrix = data.corr().round(2)\n",
    "corr_matrix              "
   ]
  },
  {
   "cell_type": "code",
   "execution_count": 150,
   "id": "88f3cffe",
   "metadata": {},
   "outputs": [
    {
     "data": {
      "image/png": "[encoded data removed]",
      "text/plain": [
       "<Figure size 720x720 with 2 Axes>"
      ]
     },
     "metadata": {
      "needs_background": "light"
     },
     "output_type": "display_data"
    }
   ],
   "source": [
    "mask = np.triu(np.ones_like(corr_matrix, dtype=bool))\n",
    "\n",
    "plt.figure(figsize=(10,10))\n",
    "sns.heatmap(corr_matrix, center=0, vmin=-1, vmax=1, mask=mask, annot=True, cmap='BrBG')\n",
    "plt.show()"
   ]
  },
  {
   "cell_type": "code",
   "execution_count": 151,
   "id": "988bd70b",
   "metadata": {},
   "outputs": [
    {
     "data": {
      "image/png": "[encoded data removed]",
      "text/plain": [
       "<Figure size 432x288 with 2 Axes>"
      ]
     },
     "metadata": {
      "needs_background": "light"
     },
     "output_type": "display_data"
    }
   ],
   "source": [
    "import seaborn as sns\n",
    "\n",
    "corelation = data.corr()\n",
    "sns.heatmap(corelation, xticklabels = corelation.columns , yticklabels = corelation.columns  )\n",
    "plt.show()"
   ]
  },
  {
   "cell_type": "markdown",
   "id": "1e78cddc",
   "metadata": {},
   "source": [
    "# Number of people who have disease vs age"
   ]
  },
  {
   "cell_type": "code",
   "execution_count": 152,
   "id": "b0e307c5",
   "metadata": {},
   "outputs": [
    {
     "data": {
      "image/png": "[encoded data removed]",
      "text/plain": [
       "<Figure size 1080x432 with 1 Axes>"
      ]
     },
     "metadata": {
      "needs_background": "light"
     },
     "output_type": "display_data"
    }
   ],
   "source": [
    "plt.figure(figsize=(15,6))\n",
    "sns.countplot(x='age',data = data, hue = 'alive',palette='husl')\n",
    "plt.show()"
   ]
  },
  {
   "cell_type": "code",
   "execution_count": 153,
   "id": "0dbf9772",
   "metadata": {},
   "outputs": [
    {
     "data": {
      "image/png": "[encoded data removed]",
      "text/plain": [
       "<Figure size 432x288 with 1 Axes>"
      ]
     },
     "metadata": {
      "needs_background": "light"
     },
     "output_type": "display_data"
    }
   ],
   "source": [
    "data.plot(\"age\")\n",
    "plt.show()"
   ]
  },
  {
   "cell_type": "code",
   "execution_count": 154,
   "id": "99f8475b",
   "metadata": {},
   "outputs": [
    {
     "data": {
      "image/png": "[encoded data removed]",
      "text/plain": [
       "<Figure size 432x288 with 1 Axes>"
      ]
     },
     "metadata": {
      "needs_background": "light"
     },
     "output_type": "display_data"
    }
   ],
   "source": [
    "data.plot(\"alive\")\n",
    "plt.show()"
   ]
  },
  {
   "cell_type": "code",
   "execution_count": 155,
   "id": "3e56f47d",
   "metadata": {},
   "outputs": [
    {
     "name": "stderr",
     "output_type": "stream",
     "text": [
      "C:\\Users\\Rana Saeed\\Anaconda3\\lib\\site-packages\\seaborn\\distributions.py:2619: FutureWarning: `distplot` is a deprecated function and will be removed in a future version. Please adapt your code to use either `displot` (a figure-level function with similar flexibility) or `histplot` (an axes-level function for histograms).\n",
      "  warnings.warn(msg, FutureWarning)\n"
     ]
    },
    {
     "data": {
      "image/png": "[encoded data removed]",
      "text/plain": [
       "<Figure size 432x288 with 1 Axes>"
      ]
     },
     "metadata": {
      "needs_background": "light"
     },
     "output_type": "display_data"
    }
   ],
   "source": [
    "sns.distplot(data['age'])\n",
    "plt.show()"
   ]
  },
  {
   "cell_type": "code",
   "execution_count": 156,
   "id": "03ebbf7b",
   "metadata": {},
   "outputs": [
    {
     "name": "stderr",
     "output_type": "stream",
     "text": [
      "C:\\Users\\Rana Saeed\\Anaconda3\\lib\\site-packages\\seaborn\\distributions.py:2619: FutureWarning: `distplot` is a deprecated function and will be removed in a future version. Please adapt your code to use either `displot` (a figure-level function with similar flexibility) or `histplot` (an axes-level function for histograms).\n",
      "  warnings.warn(msg, FutureWarning)\n"
     ]
    },
    {
     "data": {
      "image/png": "[encoded data removed]",
      "text/plain": [
       "<Figure size 432x288 with 1 Axes>"
      ]
     },
     "metadata": {
      "needs_background": "light"
     },
     "output_type": "display_data"
    }
   ],
   "source": [
    "sns.distplot(data['alive'])\n",
    "plt.show()"
   ]
  },
  {
   "cell_type": "code",
   "execution_count": 157,
   "id": "dd53a150",
   "metadata": {},
   "outputs": [
    {
     "data": {
      "image/png": "[encoded data removed]",
      "text/plain": [
       "<Figure size 432x288 with 1 Axes>"
      ]
     },
     "metadata": {
      "needs_background": "light"
     },
     "output_type": "display_data"
    }
   ],
   "source": [
    "x = data['age']\n",
    "y = data['alive']\n",
    "x1 =  (x,y)\n",
    "plt.hist(x1)\n",
    "plt.show() "
   ]
  },
  {
   "cell_type": "code",
   "execution_count": 158,
   "id": "06710206",
   "metadata": {},
   "outputs": [
    {
     "name": "stderr",
     "output_type": "stream",
     "text": [
      "C:\\Users\\Rana Saeed\\Anaconda3\\lib\\site-packages\\seaborn\\categorical.py:3717: UserWarning: The `factorplot` function has been renamed to `catplot`. The original name will be removed in a future release. Please update your code. Note that the default `kind` in `factorplot` (`'point'`) has changed `'strip'` in `catplot`.\n",
      "  warnings.warn(msg)\n",
      "C:\\Users\\Rana Saeed\\Anaconda3\\lib\\site-packages\\seaborn\\_decorators.py:36: FutureWarning: Pass the following variable as a keyword arg: x. From version 0.12, the only valid positional argument will be `data`, and passing other arguments without an explicit keyword will result in an error or misinterpretation.\n",
      "  warnings.warn(\n"
     ]
    },
    {
     "data": {
      "image/png": "[encoded data removed]",
      "text/plain": [
       "<Figure size 360x360 with 1 Axes>"
      ]
     },
     "metadata": {
      "needs_background": "light"
     },
     "output_type": "display_data"
    }
   ],
   "source": [
    "import seaborn as sns\n",
    "\n",
    "sns.factorplot('age', data = data, kind = 'count')\n",
    "plt.show()"
   ]
  },
  {
   "cell_type": "code",
   "execution_count": 159,
   "id": "8bd5cc1c",
   "metadata": {},
   "outputs": [
    {
     "name": "stderr",
     "output_type": "stream",
     "text": [
      "C:\\Users\\Rana Saeed\\Anaconda3\\lib\\site-packages\\seaborn\\categorical.py:3717: UserWarning: The `factorplot` function has been renamed to `catplot`. The original name will be removed in a future release. Please update your code. Note that the default `kind` in `factorplot` (`'point'`) has changed `'strip'` in `catplot`.\n",
      "  warnings.warn(msg)\n",
      "C:\\Users\\Rana Saeed\\Anaconda3\\lib\\site-packages\\seaborn\\_decorators.py:36: FutureWarning: Pass the following variable as a keyword arg: x. From version 0.12, the only valid positional argument will be `data`, and passing other arguments without an explicit keyword will result in an error or misinterpretation.\n",
      "  warnings.warn(\n"
     ]
    },
    {
     "data": {
      "image/png": "[encoded data removed]",
      "text/plain": [
       "<Figure size 360x360 with 1 Axes>"
      ]
     },
     "metadata": {
      "needs_background": "light"
     },
     "output_type": "display_data"
    }
   ],
   "source": [
    "import seaborn as sns\n",
    "\n",
    "sns.factorplot('alive', data = data, kind = 'count')\n",
    "plt.show()"
   ]
  },
  {
   "cell_type": "code",
   "execution_count": null,
   "id": "cfafab9a",
   "metadata": {},
   "outputs": [],
   "source": []
  },
  {
   "cell_type": "markdown",
   "id": "f5c4329c",
   "metadata": {},
   "source": [
    "# Some observations about the data:"
   ]
  },
  {
   "cell_type": "markdown",
   "id": "1c9dcb51",
   "metadata": {},
   "source": [
    "Categorical Features\n",
    "-"
   ]
  },
  {
   "cell_type": "code",
   "execution_count": 160,
   "id": "79beaeb4",
   "metadata": {},
   "outputs": [
    {
     "name": "stdout",
     "output_type": "stream",
     "text": [
      "Number of categorical variables:  2\n",
      "********************************************************************************\n",
      "Categorical variables column name: ['name', 'group']\n"
     ]
    }
   ],
   "source": [
    "cat_features = [feature for feature in data.columns if data[feature].dtypes == 'O']\n",
    "print('Number of categorical variables: ', len(cat_features))\n",
    "print('*'*80)\n",
    "print('Categorical variables column name:',cat_features)"
   ]
  },
  {
   "cell_type": "markdown",
   "id": "c1e1d2ce",
   "metadata": {},
   "source": [
    "numerical_features"
   ]
  },
  {
   "cell_type": "code",
   "execution_count": 161,
   "id": "63f35350",
   "metadata": {},
   "outputs": [
    {
     "name": "stdout",
     "output_type": "stream",
     "text": [
      "Number of numerical variables:  11\n",
      "********************************************************************************\n",
      "Numerical Variables Column:  ['survival', 'alive', 'age', 'pericardialeffusion', 'fractionalshortening', 'epss', 'lvdd', 'wallmotion-score', 'wallmotion-index', 'mult', 'aliveat1']\n"
     ]
    }
   ],
   "source": [
    "numerical_features = [feature for feature in data.columns if data[feature].dtypes != 'O']\n",
    "print('Number of numerical variables: ', len(numerical_features))\n",
    "print('*'*80)\n",
    "print('Numerical Variables Column: ',numerical_features)"
   ]
  },
  {
   "cell_type": "code",
   "execution_count": null,
   "id": "1f943178",
   "metadata": {},
   "outputs": [],
   "source": []
  },
  {
   "cell_type": "markdown",
   "id": "46f891c8",
   "metadata": {},
   "source": [
    "Visualizing Categorical Features\n",
    "-"
   ]
  },
  {
   "cell_type": "code",
   "execution_count": 162,
   "id": "cacb89a6",
   "metadata": {},
   "outputs": [
    {
     "data": {
      "image/png": "[encoded data removed]",
      "text/plain": [
       "<Figure size 600x300 with 1 Axes>"
      ]
     },
     "metadata": {
      "needs_background": "light"
     },
     "output_type": "display_data"
    }
   ],
   "source": [
    "for col in cat_features[:-1]:\n",
    "    plt.figure(figsize=(6,3), dpi=100)\n",
    "    sns.countplot(data=data,x=col,hue ='alive',palette='gist_rainbow_r')\n",
    "    plt.legend(loc=(1.05,0.5))"
   ]
  },
  {
   "cell_type": "code",
   "execution_count": 163,
   "id": "0370bee3",
   "metadata": {},
   "outputs": [],
   "source": [
    "def get_insights(data):\n",
    "    for cols in cat_features[:-1]:\n",
    "        cat_group = data.groupby(cols)['group'].describe()\n",
    "        percent = 100 *(cat_group['freq']/cat_group['count'])\n",
    "        print('*'*70)\n",
    "        print(\"Insights from '{}' data\".format(cols))\n",
    "        print('*'*70)\n",
    "        for i in range(0,(len(cat_group))):\n",
    "            print('{} from {} are {}'.format(round(percent[i],2),percent.index[i], cat_group['top'][i]))\n",
    "        print('*'*70)"
   ]
  },
  {
   "cell_type": "code",
   "execution_count": 164,
   "id": "f15e42ef",
   "metadata": {},
   "outputs": [
    {
     "name": "stdout",
     "output_type": "stream",
     "text": [
      "**********************************************************************\n",
      "Insights from 'name' data\n",
      "**********************************************************************\n",
      "77.98 from name are 2\n",
      "**********************************************************************\n"
     ]
    }
   ],
   "source": [
    "get_insights(data)\n"
   ]
  },
  {
   "cell_type": "code",
   "execution_count": 165,
   "id": "7eec551d",
   "metadata": {},
   "outputs": [
    {
     "data": {
      "image/png": "[encoded data removed]",
      "text/plain": [
       "<Figure size 600x300 with 1 Axes>"
      ]
     },
     "metadata": {
      "needs_background": "light"
     },
     "output_type": "display_data"
    },
    {
     "data": {
      "image/png": "[encoded data removed]",
      "text/plain": [
       "<Figure size 600x300 with 1 Axes>"
      ]
     },
     "metadata": {
      "needs_background": "light"
     },
     "output_type": "display_data"
    },
    {
     "data": {
      "image/png": "[encoded data removed]",
      "text/plain": [
       "<Figure size 600x300 with 1 Axes>"
      ]
     },
     "metadata": {
      "needs_background": "light"
     },
     "output_type": "display_data"
    },
    {
     "data": {
      "image/png": "[encoded data removed]",
      "text/plain": [
       "<Figure size 600x300 with 1 Axes>"
      ]
     },
     "metadata": {
      "needs_background": "light"
     },
     "output_type": "display_data"
    },
    {
     "data": {
      "image/png": "[encoded data removed]",
      "text/plain": [
       "<Figure size 600x300 with 1 Axes>"
      ]
     },
     "metadata": {
      "needs_background": "light"
     },
     "output_type": "display_data"
    },
    {
     "data": {
      "image/png": "[encoded data removed]",
      "text/plain": [
       "<Figure size 600x300 with 1 Axes>"
      ]
     },
     "metadata": {
      "needs_background": "light"
     },
     "output_type": "display_data"
    },
    {
     "data": {
      "image/png": "[encoded data removed]",
      "text/plain": [
       "<Figure size 600x300 with 1 Axes>"
      ]
     },
     "metadata": {
      "needs_background": "light"
     },
     "output_type": "display_data"
    },
    {
     "data": {
      "image/png": "[encoded data removed]",
      "text/plain": [
       "<Figure size 600x300 with 1 Axes>"
      ]
     },
     "metadata": {
      "needs_background": "light"
     },
     "output_type": "display_data"
    },
    {
     "data": {
      "image/png": "[encoded data removed]",
      "text/plain": [
       "<Figure size 600x300 with 1 Axes>"
      ]
     },
     "metadata": {
      "needs_background": "light"
     },
     "output_type": "display_data"
    },
    {
     "data": {
      "image/png": "[encoded data removed]",
      "text/plain": [
       "<Figure size 600x300 with 1 Axes>"
      ]
     },
     "metadata": {
      "needs_background": "light"
     },
     "output_type": "display_data"
    },
    {
     "data": {
      "image/png": "[encoded data removed]",
      "text/plain": [
       "<Figure size 600x300 with 1 Axes>"
      ]
     },
     "metadata": {
      "needs_background": "light"
     },
     "output_type": "display_data"
    }
   ],
   "source": [
    "#Plotting the barplot of numerical features\n",
    "for col in numerical_features:\n",
    "    plt.figure(figsize=(6,3), dpi=100)\n",
    "    sns.barplot(data=data,x='alive',y=col,palette='gist_rainbow_r')"
   ]
  },
  {
   "cell_type": "code",
   "execution_count": null,
   "id": "4b4de7cb",
   "metadata": {},
   "outputs": [],
   "source": []
  },
  {
   "cell_type": "markdown",
   "id": "c8e79268",
   "metadata": {},
   "source": [
    "# Drop Columns"
   ]
  },
  {
   "cell_type": "code",
   "execution_count": 167,
   "id": "3e782264",
   "metadata": {},
   "outputs": [
    {
     "data": {
      "text/html": [
       "<div>\n",
       "<style scoped>\n",
       "    .dataframe tbody tr th:only-of-type {\n",
       "        vertical-align: middle;\n",
       "    }\n",
       "\n",
       "    .dataframe tbody tr th {\n",
       "        vertical-align: top;\n",
       "    }\n",
       "\n",
       "    .dataframe thead th {\n",
       "        text-align: right;\n",
       "    }\n",
       "</style>\n",
       "<table border=\"1\" class=\"dataframe\">\n",
       "  <thead>\n",
       "    <tr style=\"text-align: right;\">\n",
       "      <th></th>\n",
       "      <th>survival</th>\n",
       "      <th>alive</th>\n",
       "      <th>age</th>\n",
       "      <th>pericardialeffusion</th>\n",
       "      <th>fractionalshortening</th>\n",
       "      <th>epss</th>\n",
       "      <th>lvdd</th>\n",
       "      <th>wallmotion-score</th>\n",
       "      <th>wallmotion-index</th>\n",
       "      <th>mult</th>\n",
       "    </tr>\n",
       "  </thead>\n",
       "  <tbody>\n",
       "    <tr>\n",
       "      <th>0</th>\n",
       "      <td>11.0</td>\n",
       "      <td>0.0</td>\n",
       "      <td>71.0</td>\n",
       "      <td>0.0</td>\n",
       "      <td>0.260</td>\n",
       "      <td>9.000</td>\n",
       "      <td>4.600</td>\n",
       "      <td>14.0</td>\n",
       "      <td>1.00</td>\n",
       "      <td>1.000</td>\n",
       "    </tr>\n",
       "    <tr>\n",
       "      <th>1</th>\n",
       "      <td>19.0</td>\n",
       "      <td>0.0</td>\n",
       "      <td>72.0</td>\n",
       "      <td>0.0</td>\n",
       "      <td>0.380</td>\n",
       "      <td>6.000</td>\n",
       "      <td>4.100</td>\n",
       "      <td>14.0</td>\n",
       "      <td>1.70</td>\n",
       "      <td>0.588</td>\n",
       "    </tr>\n",
       "    <tr>\n",
       "      <th>2</th>\n",
       "      <td>16.0</td>\n",
       "      <td>0.0</td>\n",
       "      <td>55.0</td>\n",
       "      <td>0.0</td>\n",
       "      <td>0.260</td>\n",
       "      <td>4.000</td>\n",
       "      <td>3.420</td>\n",
       "      <td>14.0</td>\n",
       "      <td>1.00</td>\n",
       "      <td>1.000</td>\n",
       "    </tr>\n",
       "    <tr>\n",
       "      <th>3</th>\n",
       "      <td>57.0</td>\n",
       "      <td>0.0</td>\n",
       "      <td>60.0</td>\n",
       "      <td>0.0</td>\n",
       "      <td>0.253</td>\n",
       "      <td>12.062</td>\n",
       "      <td>4.603</td>\n",
       "      <td>16.0</td>\n",
       "      <td>1.45</td>\n",
       "      <td>0.788</td>\n",
       "    </tr>\n",
       "    <tr>\n",
       "      <th>4</th>\n",
       "      <td>19.0</td>\n",
       "      <td>1.0</td>\n",
       "      <td>57.0</td>\n",
       "      <td>0.0</td>\n",
       "      <td>0.160</td>\n",
       "      <td>22.000</td>\n",
       "      <td>5.750</td>\n",
       "      <td>18.0</td>\n",
       "      <td>2.25</td>\n",
       "      <td>0.571</td>\n",
       "    </tr>\n",
       "  </tbody>\n",
       "</table>\n",
       "</div>"
      ],
      "text/plain": [
       "   survival  alive   age  pericardialeffusion  fractionalshortening    epss  \\\n",
       "0      11.0    0.0  71.0                  0.0                 0.260   9.000   \n",
       "1      19.0    0.0  72.0                  0.0                 0.380   6.000   \n",
       "2      16.0    0.0  55.0                  0.0                 0.260   4.000   \n",
       "3      57.0    0.0  60.0                  0.0                 0.253  12.062   \n",
       "4      19.0    1.0  57.0                  0.0                 0.160  22.000   \n",
       "\n",
       "    lvdd  wallmotion-score  wallmotion-index   mult  \n",
       "0  4.600              14.0              1.00  1.000  \n",
       "1  4.100              14.0              1.70  0.588  \n",
       "2  3.420              14.0              1.00  1.000  \n",
       "3  4.603              16.0              1.45  0.788  \n",
       "4  5.750              18.0              2.25  0.571  "
      ]
     },
     "execution_count": 167,
     "metadata": {},
     "output_type": "execute_result"
    }
   ],
   "source": [
    "data = data.drop(['name', 'group', 'aliveat1'], axis=1)\n",
    "data.head()"
   ]
  },
  {
   "cell_type": "code",
   "execution_count": 168,
   "id": "dd82012d",
   "metadata": {},
   "outputs": [
    {
     "name": "stdout",
     "output_type": "stream",
     "text": [
      "survival : 0.0226 %\n",
      "alive : 0.015 %\n",
      "age : 0.0526 %\n",
      "pericardialeffusion : 0.0075 %\n",
      "fractionalshortening : 0.0677 %\n",
      "epss : 0.1203 %\n",
      "lvdd : 0.0902 %\n",
      "wallmotion-score : 0.0376 %\n",
      "wallmotion-index : 0.0226 %\n",
      "mult : 0.0301 %\n"
     ]
    }
   ],
   "source": [
    "features_with_null = [features for features in data.columns if data[features].isnull().sum()>0]\n",
    "for feature in features_with_null:\n",
    "    print(feature, ':', round(data[feature].isnull().mean(), 4), '%')"
   ]
  },
  {
   "cell_type": "code",
   "execution_count": null,
   "id": "b0956fa3",
   "metadata": {},
   "outputs": [],
   "source": []
  },
  {
   "cell_type": "code",
   "execution_count": 169,
   "id": "66e62b6a",
   "metadata": {},
   "outputs": [
    {
     "name": "stdout",
     "output_type": "stream",
     "text": [
      "survival : [1.10e+01 1.90e+01 1.60e+01 5.70e+01 2.60e+01 1.30e+01 5.00e+01 2.50e+01\n",
      " 1.00e+01 5.20e+01 4.40e+01 5.00e-01 2.40e+01 2.20e+01 1.00e+00 7.50e-01\n",
      " 5.00e+00 4.80e+01 2.90e+01 2.50e-01 3.60e+01 3.00e+00 2.70e+01 3.50e+01\n",
      " 3.10e+01 3.20e+01 4.00e+01 4.60e+01 2.00e+00 3.70e+01 1.95e+01 2.00e+01\n",
      "      nan 7.00e+00 1.20e+01 4.50e+01 5.30e+01 3.80e+01 9.00e+00 4.90e+01\n",
      " 4.70e+01 4.10e+01 3.30e+01 1.50e+01 3.00e-02 2.30e+01 3.40e+01 2.10e+01\n",
      " 5.50e+01 4.00e+00 1.25e+00 2.80e+01 1.70e+01 7.50e+00]\n",
      "alive : [ 0.  1. nan]\n",
      "age : [71.    72.    55.    60.    57.    68.    62.    46.    54.    77.\n",
      " 73.    69.    62.529 66.    85.    64.    35.    75.    65.    52.\n",
      "    nan 47.    63.    61.    80.    70.    79.    56.    67.    81.\n",
      " 59.    58.    51.    50.    78.    86.    74.    53.    48.   ]\n",
      "pericardialeffusion : [ 0.  1. 77. nan]\n",
      "fractionalshortening : [0.26  0.38  0.253 0.16  0.23  0.33  0.34  0.14  0.13  0.45  0.15  0.12\n",
      " 0.25  0.07  0.09  0.22  0.18  0.17  0.19  0.3     nan 0.21  0.4   0.61\n",
      " 0.06  0.51  0.41  0.35  0.27  0.44  0.03  0.04  0.24  0.01  0.29  0.1\n",
      " 0.187 0.11  0.36  0.225 0.217 0.2   0.05  0.28  0.155 0.344 0.272 0.5\n",
      " 0.258 0.228 0.036 0.43 ]\n",
      "epss : [ 9.     6.     4.    12.062 22.     5.    31.     8.     0.    13.\n",
      " 16.    10.    23.    12.063 11.    20.    17.    15.    12.    19.\n",
      " 12.733  5.9    7.       nan  4.2   17.2    5.12  13.1   23.6    5.4\n",
      "  9.3    4.7   17.5   21.3   14.    14.8    9.4   24.6   15.6   18.6\n",
      "  9.8   11.9   16.4   10.3   13.2   11.4    9.7    8.8   16.1   12.2\n",
      " 10.2    7.5   30.1   17.9   21.7   19.4    7.1   16.8   25.    19.2\n",
      "  5.5    8.7   11.3    6.6    9.1   16.5    5.6    4.8    8.5   28.9\n",
      " 11.8    6.9   14.3   40.     7.6   12.1   13.6    9.2   28.6   19.1\n",
      "  6.8   25.5   12.9  ]\n",
      "lvdd : [4.6   4.1   3.42  4.603 5.75  4.31  5.43  5.25  5.09  4.49  4.23  3.6\n",
      " 4.    3.73  5.8   4.29  4.65  5.2   5.819 5.4   5.39  5.46  6.06  3.48\n",
      " 3.85  4.17    nan 4.16  5.05  5.32  3.1   4.07  5.31  3.88  4.36  3.63\n",
      " 4.27  3.59  3.96  6.29  5.    5.26  3.49  5.65  6.15  4.57  4.37  5.3\n",
      " 4.41  5.15  6.78  5.02  4.96  4.68  4.75  5.57  5.78  5.62  4.72  5.95\n",
      " 4.54  4.85  4.77  4.58  6.74  4.48  4.44  6.21  4.14  4.56  5.16  4.04\n",
      " 5.36  4.02  3.87  5.47  6.73  4.69  4.55  4.87  3.52  5.49  4.12  6.23\n",
      " 4.42  3.92  4.38  4.06  6.63  4.79  5.86  2.32  5.04  3.66  4.51 ]\n",
      "wallmotion-score : [14.   16.   18.   12.   22.5  15.5  11.67 24.    8.   27.   19.5  13.83\n",
      "  7.5  10.    2.     nan  6.   13.    5.   21.5  15.   11.   22.   17.5\n",
      "  9.   17.   23.   39.   12.33 10.5  16.67 17.83  5.5  13.67 16.5  21.\n",
      " 28.   11.5  13.5  12.67 15.67 12.5  26.08 18.16 19.   14.5 ]\n",
      "wallmotion-index : [1.    1.7   1.45  2.25  1.875 1.14  1.19  1.8   2.33  1.64  2.    1.333\n",
      " 1.625 1.38  1.5   1.11  1.667 1.56  1.17  3.    2.15  1.67  1.222 1.3\n",
      " 1.25  1.31  2.3     nan 1.08  1.37  1.167 1.05  1.39  1.18  2.5   1.1\n",
      " 1.367 2.18  2.39  1.15  2.1   1.09  1.36  1.41  1.83  1.04  1.27  1.06\n",
      " 1.42  2.01  1.51  1.23  1.4   2.2   1.95  1.2   1.375 1.73  1.21  1.409]\n",
      "mult : [1.    0.588 0.788 0.571 0.857 1.003 0.93  0.714 0.358 0.784 0.429 0.71\n",
      " 0.36  0.57  0.64  0.43  2.      nan 0.14  0.357 0.786 0.428 0.928 0.812\n",
      " 0.642 0.785 0.28  0.643]\n"
     ]
    }
   ],
   "source": [
    "for feature in features_with_null:\n",
    "    print(feature, ':', data[feature].unique())"
   ]
  },
  {
   "cell_type": "code",
   "execution_count": 170,
   "id": "3548106b",
   "metadata": {},
   "outputs": [
    {
     "data": {
      "text/plain": [
       "0"
      ]
     },
     "execution_count": 170,
     "metadata": {},
     "output_type": "execute_result"
    }
   ],
   "source": [
    "data = data.dropna(subset=['alive'])\n",
    "data['alive'].isnull().sum()"
   ]
  },
  {
   "cell_type": "code",
   "execution_count": 171,
   "id": "301e317d",
   "metadata": {},
   "outputs": [
    {
     "name": "stdout",
     "output_type": "stream",
     "text": [
      "Index(['survival', 'age', 'fractionalshortening', 'epss', 'lvdd',\n",
      "       'wallmotion-score', 'wallmotion-index', 'mult'],\n",
      "      dtype='object')\n"
     ]
    },
    {
     "name": "stderr",
     "output_type": "stream",
     "text": [
      "C:\\Users\\RANASA~1\\AppData\\Local\\Temp/ipykernel_3872/1750679458.py:2: FutureWarning: In a future version of pandas all arguments of DataFrame.drop except for the argument 'labels' will be keyword-only\n",
      "  continuous_features = data.drop(['pericardialeffusion', 'alive'], 1).columns\n"
     ]
    }
   ],
   "source": [
    "discrete_features = ['pericardialeffusion']\n",
    "continuous_features = data.drop(['pericardialeffusion', 'alive'], 1).columns\n",
    "label = ['alive']\n",
    "\n",
    "print(continuous_features)"
   ]
  },
  {
   "cell_type": "code",
   "execution_count": 172,
   "id": "b1bda316",
   "metadata": {},
   "outputs": [],
   "source": [
    "for feature in discrete_features:\n",
    "    data[feature] = data[feature].fillna(data[feature].mode()[0])"
   ]
  },
  {
   "cell_type": "code",
   "execution_count": null,
   "id": "263e7687",
   "metadata": {},
   "outputs": [],
   "source": []
  },
  {
   "cell_type": "code",
   "execution_count": 173,
   "id": "c873c25f",
   "metadata": {},
   "outputs": [
    {
     "data": {
      "image/png": "[encoded data removed]",
      "text/plain": [
       "<Figure size 432x288 with 1 Axes>"
      ]
     },
     "metadata": {
      "needs_background": "light"
     },
     "output_type": "display_data"
    },
    {
     "data": {
      "image/png": "[encoded data removed]",
      "text/plain": [
       "<Figure size 432x288 with 1 Axes>"
      ]
     },
     "metadata": {
      "needs_background": "light"
     },
     "output_type": "display_data"
    },
    {
     "data": {
      "image/png": "[encoded data removed]",
      "text/plain": [
       "<Figure size 432x288 with 1 Axes>"
      ]
     },
     "metadata": {
      "needs_background": "light"
     },
     "output_type": "display_data"
    },
    {
     "data": {
      "image/png": "[encoded data removed]",
      "text/plain": [
       "<Figure size 432x288 with 1 Axes>"
      ]
     },
     "metadata": {
      "needs_background": "light"
     },
     "output_type": "display_data"
    },
    {
     "data": {
      "image/png": "[encoded data removed]",
      "text/plain": [
       "<Figure size 432x288 with 1 Axes>"
      ]
     },
     "metadata": {
      "needs_background": "light"
     },
     "output_type": "display_data"
    },
    {
     "data": {
      "image/png": "[encoded data removed]",
      "text/plain": [
       "<Figure size 432x288 with 1 Axes>"
      ]
     },
     "metadata": {
      "needs_background": "light"
     },
     "output_type": "display_data"
    },
    {
     "data": {
      "image/png": "[encoded data removed]",
      "text/plain": [
       "<Figure size 432x288 with 1 Axes>"
      ]
     },
     "metadata": {
      "needs_background": "light"
     },
     "output_type": "display_data"
    },
    {
     "data": {
      "image/png": "[encoded data removed]",
      "text/plain": [
       "<Figure size 432x288 with 1 Axes>"
      ]
     },
     "metadata": {
      "needs_background": "light"
     },
     "output_type": "display_data"
    }
   ],
   "source": [
    "for feature in continuous_features:\n",
    "    data.boxplot(feature)\n",
    "    plt.title(feature)\n",
    "    plt.show()\n"
   ]
  },
  {
   "cell_type": "code",
   "execution_count": 174,
   "id": "c387376e",
   "metadata": {},
   "outputs": [],
   "source": [
    "features_with_outliers = ['wallmotion-score', 'wallmotion-index', 'mult']"
   ]
  },
  {
   "cell_type": "code",
   "execution_count": 175,
   "id": "f864d3cf",
   "metadata": {},
   "outputs": [],
   "source": [
    "for feature in continuous_features:\n",
    "    if feature in features_with_outliers:\n",
    "        data[feature].fillna(data[feature].median(), inplace=True)\n",
    "    else:\n",
    "        data[feature].fillna(data[feature].mean(), inplace=True)"
   ]
  },
  {
   "cell_type": "code",
   "execution_count": 176,
   "id": "0ed0980a",
   "metadata": {},
   "outputs": [],
   "source": [
    "from sklearn.neighbors import LocalOutlierFactor\n",
    "lof = LocalOutlierFactor()\n",
    "outliers_rows = lof.fit_predict(data)"
   ]
  },
  {
   "cell_type": "code",
   "execution_count": 177,
   "id": "90ab512d",
   "metadata": {},
   "outputs": [],
   "source": [
    "mask = outliers_rows != -1"
   ]
  },
  {
   "cell_type": "code",
   "execution_count": 178,
   "id": "0f7cfc82",
   "metadata": {},
   "outputs": [
    {
     "data": {
      "text/plain": [
       "survival                0\n",
       "alive                   0\n",
       "age                     0\n",
       "pericardialeffusion     0\n",
       "fractionalshortening    0\n",
       "epss                    0\n",
       "lvdd                    0\n",
       "wallmotion-score        0\n",
       "wallmotion-index        0\n",
       "mult                    0\n",
       "dtype: int64"
      ]
     },
     "execution_count": 178,
     "metadata": {},
     "output_type": "execute_result"
    }
   ],
   "source": [
    "data.isnull().sum()"
   ]
  },
  {
   "cell_type": "code",
   "execution_count": null,
   "id": "50be479c",
   "metadata": {},
   "outputs": [],
   "source": []
  },
  {
   "cell_type": "markdown",
   "id": "631a92d2",
   "metadata": {},
   "source": [
    "# Feature Selection"
   ]
  },
  {
   "cell_type": "code",
   "execution_count": null,
   "id": "e681e87f",
   "metadata": {},
   "outputs": [],
   "source": []
  },
  {
   "cell_type": "code",
   "execution_count": 179,
   "id": "4dad7019",
   "metadata": {},
   "outputs": [],
   "source": [
    "from sklearn.ensemble import RandomForestClassifier\n",
    "from boruta import BorutaPy"
   ]
  },
  {
   "cell_type": "code",
   "execution_count": 180,
   "id": "ec27e2d5",
   "metadata": {},
   "outputs": [
    {
     "name": "stdout",
     "output_type": "stream",
     "text": [
      "Iteration: \t1 / 100\n",
      "Confirmed: \t0\n",
      "Tentative: \t9\n",
      "Rejected: \t0\n",
      "Iteration: \t2 / 100\n",
      "Confirmed: \t0\n",
      "Tentative: \t9\n",
      "Rejected: \t0\n",
      "Iteration: \t3 / 100\n",
      "Confirmed: \t0\n",
      "Tentative: \t9\n",
      "Rejected: \t0\n",
      "Iteration: \t4 / 100\n",
      "Confirmed: \t0\n",
      "Tentative: \t9\n",
      "Rejected: \t0\n",
      "Iteration: \t5 / 100\n",
      "Confirmed: \t0\n",
      "Tentative: \t9\n",
      "Rejected: \t0\n",
      "Iteration: \t6 / 100\n",
      "Confirmed: \t0\n",
      "Tentative: \t9\n",
      "Rejected: \t0\n",
      "Iteration: \t7 / 100\n",
      "Confirmed: \t0\n",
      "Tentative: \t9\n",
      "Rejected: \t0\n",
      "Iteration: \t8 / 100\n",
      "Confirmed: \t1\n",
      "Tentative: \t6\n",
      "Rejected: \t2\n",
      "Iteration: \t9 / 100\n",
      "Confirmed: \t1\n",
      "Tentative: \t6\n",
      "Rejected: \t2\n",
      "Iteration: \t10 / 100\n",
      "Confirmed: \t1\n",
      "Tentative: \t6\n",
      "Rejected: \t2\n",
      "Iteration: \t11 / 100\n",
      "Confirmed: \t1\n",
      "Tentative: \t6\n",
      "Rejected: \t2\n",
      "Iteration: \t12 / 100\n",
      "Confirmed: \t1\n",
      "Tentative: \t2\n",
      "Rejected: \t6\n",
      "Iteration: \t13 / 100\n",
      "Confirmed: \t1\n",
      "Tentative: \t2\n",
      "Rejected: \t6\n",
      "Iteration: \t14 / 100\n",
      "Confirmed: \t1\n",
      "Tentative: \t2\n",
      "Rejected: \t6\n",
      "Iteration: \t15 / 100\n",
      "Confirmed: \t1\n",
      "Tentative: \t2\n",
      "Rejected: \t6\n",
      "Iteration: \t16 / 100\n",
      "Confirmed: \t1\n",
      "Tentative: \t2\n",
      "Rejected: \t6\n",
      "Iteration: \t17 / 100\n",
      "Confirmed: \t1\n",
      "Tentative: \t2\n",
      "Rejected: \t6\n",
      "Iteration: \t18 / 100\n",
      "Confirmed: \t1\n",
      "Tentative: \t2\n",
      "Rejected: \t6\n",
      "Iteration: \t19 / 100\n",
      "Confirmed: \t1\n",
      "Tentative: \t2\n",
      "Rejected: \t6\n",
      "Iteration: \t20 / 100\n",
      "Confirmed: \t1\n",
      "Tentative: \t2\n",
      "Rejected: \t6\n",
      "Iteration: \t21 / 100\n",
      "Confirmed: \t1\n",
      "Tentative: \t2\n",
      "Rejected: \t6\n",
      "Iteration: \t22 / 100\n",
      "Confirmed: \t1\n",
      "Tentative: \t2\n",
      "Rejected: \t6\n",
      "Iteration: \t23 / 100\n",
      "Confirmed: \t1\n",
      "Tentative: \t2\n",
      "Rejected: \t6\n",
      "Iteration: \t24 / 100\n",
      "Confirmed: \t1\n",
      "Tentative: \t2\n",
      "Rejected: \t6\n",
      "Iteration: \t25 / 100\n",
      "Confirmed: \t1\n",
      "Tentative: \t2\n",
      "Rejected: \t6\n",
      "Iteration: \t26 / 100\n",
      "Confirmed: \t1\n",
      "Tentative: \t2\n",
      "Rejected: \t6\n",
      "Iteration: \t27 / 100\n",
      "Confirmed: \t1\n",
      "Tentative: \t2\n",
      "Rejected: \t6\n",
      "Iteration: \t28 / 100\n",
      "Confirmed: \t1\n",
      "Tentative: \t2\n",
      "Rejected: \t6\n",
      "Iteration: \t29 / 100\n",
      "Confirmed: \t1\n",
      "Tentative: \t2\n",
      "Rejected: \t6\n",
      "Iteration: \t30 / 100\n",
      "Confirmed: \t1\n",
      "Tentative: \t2\n",
      "Rejected: \t6\n",
      "Iteration: \t31 / 100\n",
      "Confirmed: \t1\n",
      "Tentative: \t2\n",
      "Rejected: \t6\n",
      "Iteration: \t32 / 100\n",
      "Confirmed: \t1\n",
      "Tentative: \t2\n",
      "Rejected: \t6\n",
      "Iteration: \t33 / 100\n",
      "Confirmed: \t1\n",
      "Tentative: \t2\n",
      "Rejected: \t6\n",
      "Iteration: \t34 / 100\n",
      "Confirmed: \t1\n",
      "Tentative: \t2\n",
      "Rejected: \t6\n",
      "Iteration: \t35 / 100\n",
      "Confirmed: \t1\n",
      "Tentative: \t2\n",
      "Rejected: \t6\n",
      "Iteration: \t36 / 100\n",
      "Confirmed: \t1\n",
      "Tentative: \t2\n",
      "Rejected: \t6\n",
      "Iteration: \t37 / 100\n",
      "Confirmed: \t1\n",
      "Tentative: \t2\n",
      "Rejected: \t6\n",
      "Iteration: \t38 / 100\n",
      "Confirmed: \t1\n",
      "Tentative: \t2\n",
      "Rejected: \t6\n",
      "Iteration: \t39 / 100\n",
      "Confirmed: \t1\n",
      "Tentative: \t2\n",
      "Rejected: \t6\n",
      "Iteration: \t40 / 100\n",
      "Confirmed: \t1\n",
      "Tentative: \t2\n",
      "Rejected: \t6\n",
      "Iteration: \t41 / 100\n",
      "Confirmed: \t1\n",
      "Tentative: \t2\n",
      "Rejected: \t6\n",
      "Iteration: \t42 / 100\n",
      "Confirmed: \t1\n",
      "Tentative: \t2\n",
      "Rejected: \t6\n",
      "Iteration: \t43 / 100\n",
      "Confirmed: \t1\n",
      "Tentative: \t2\n",
      "Rejected: \t6\n",
      "Iteration: \t44 / 100\n",
      "Confirmed: \t1\n",
      "Tentative: \t2\n",
      "Rejected: \t6\n",
      "Iteration: \t45 / 100\n",
      "Confirmed: \t1\n",
      "Tentative: \t2\n",
      "Rejected: \t6\n",
      "Iteration: \t46 / 100\n",
      "Confirmed: \t1\n",
      "Tentative: \t2\n",
      "Rejected: \t6\n",
      "Iteration: \t47 / 100\n",
      "Confirmed: \t1\n",
      "Tentative: \t2\n",
      "Rejected: \t6\n",
      "Iteration: \t48 / 100\n",
      "Confirmed: \t1\n",
      "Tentative: \t2\n",
      "Rejected: \t6\n",
      "Iteration: \t49 / 100\n",
      "Confirmed: \t1\n",
      "Tentative: \t2\n",
      "Rejected: \t6\n",
      "Iteration: \t50 / 100\n",
      "Confirmed: \t1\n",
      "Tentative: \t2\n",
      "Rejected: \t6\n",
      "Iteration: \t51 / 100\n",
      "Confirmed: \t1\n",
      "Tentative: \t2\n",
      "Rejected: \t6\n",
      "Iteration: \t52 / 100\n",
      "Confirmed: \t1\n",
      "Tentative: \t2\n",
      "Rejected: \t6\n",
      "Iteration: \t53 / 100\n",
      "Confirmed: \t1\n",
      "Tentative: \t2\n",
      "Rejected: \t6\n",
      "Iteration: \t54 / 100\n",
      "Confirmed: \t1\n",
      "Tentative: \t2\n",
      "Rejected: \t6\n",
      "Iteration: \t55 / 100\n",
      "Confirmed: \t1\n",
      "Tentative: \t2\n",
      "Rejected: \t6\n",
      "Iteration: \t56 / 100\n",
      "Confirmed: \t1\n",
      "Tentative: \t2\n",
      "Rejected: \t6\n",
      "Iteration: \t57 / 100\n",
      "Confirmed: \t1\n",
      "Tentative: \t2\n",
      "Rejected: \t6\n",
      "Iteration: \t58 / 100\n",
      "Confirmed: \t1\n",
      "Tentative: \t2\n",
      "Rejected: \t6\n",
      "Iteration: \t59 / 100\n",
      "Confirmed: \t1\n",
      "Tentative: \t2\n",
      "Rejected: \t6\n",
      "Iteration: \t60 / 100\n",
      "Confirmed: \t1\n",
      "Tentative: \t2\n",
      "Rejected: \t6\n",
      "Iteration: \t61 / 100\n",
      "Confirmed: \t1\n",
      "Tentative: \t2\n",
      "Rejected: \t6\n",
      "Iteration: \t62 / 100\n",
      "Confirmed: \t1\n",
      "Tentative: \t2\n",
      "Rejected: \t6\n",
      "Iteration: \t63 / 100\n",
      "Confirmed: \t1\n",
      "Tentative: \t2\n",
      "Rejected: \t6\n",
      "Iteration: \t64 / 100\n",
      "Confirmed: \t1\n",
      "Tentative: \t2\n",
      "Rejected: \t6\n",
      "Iteration: \t65 / 100\n",
      "Confirmed: \t1\n",
      "Tentative: \t2\n",
      "Rejected: \t6\n",
      "Iteration: \t66 / 100\n",
      "Confirmed: \t1\n",
      "Tentative: \t2\n",
      "Rejected: \t6\n",
      "Iteration: \t67 / 100\n",
      "Confirmed: \t1\n",
      "Tentative: \t2\n",
      "Rejected: \t6\n",
      "Iteration: \t68 / 100\n",
      "Confirmed: \t1\n",
      "Tentative: \t2\n",
      "Rejected: \t6\n",
      "Iteration: \t69 / 100\n",
      "Confirmed: \t1\n",
      "Tentative: \t2\n",
      "Rejected: \t6\n",
      "Iteration: \t70 / 100\n",
      "Confirmed: \t1\n",
      "Tentative: \t2\n",
      "Rejected: \t6\n",
      "Iteration: \t71 / 100\n",
      "Confirmed: \t1\n",
      "Tentative: \t2\n",
      "Rejected: \t6\n",
      "Iteration: \t72 / 100\n",
      "Confirmed: \t1\n",
      "Tentative: \t2\n",
      "Rejected: \t6\n",
      "Iteration: \t73 / 100\n",
      "Confirmed: \t1\n",
      "Tentative: \t2\n",
      "Rejected: \t6\n",
      "Iteration: \t74 / 100\n",
      "Confirmed: \t1\n",
      "Tentative: \t2\n",
      "Rejected: \t6\n",
      "Iteration: \t75 / 100\n",
      "Confirmed: \t1\n",
      "Tentative: \t2\n",
      "Rejected: \t6\n",
      "Iteration: \t76 / 100\n",
      "Confirmed: \t1\n",
      "Tentative: \t2\n",
      "Rejected: \t6\n",
      "Iteration: \t77 / 100\n",
      "Confirmed: \t1\n",
      "Tentative: \t2\n",
      "Rejected: \t6\n",
      "Iteration: \t78 / 100\n",
      "Confirmed: \t1\n",
      "Tentative: \t2\n",
      "Rejected: \t6\n",
      "Iteration: \t79 / 100\n",
      "Confirmed: \t1\n",
      "Tentative: \t2\n",
      "Rejected: \t6\n",
      "Iteration: \t80 / 100\n",
      "Confirmed: \t1\n",
      "Tentative: \t2\n",
      "Rejected: \t6\n",
      "Iteration: \t81 / 100\n",
      "Confirmed: \t1\n",
      "Tentative: \t2\n",
      "Rejected: \t6\n",
      "Iteration: \t82 / 100\n",
      "Confirmed: \t1\n",
      "Tentative: \t2\n",
      "Rejected: \t6\n",
      "Iteration: \t83 / 100\n",
      "Confirmed: \t1\n",
      "Tentative: \t2\n",
      "Rejected: \t6\n",
      "Iteration: \t84 / 100\n",
      "Confirmed: \t1\n",
      "Tentative: \t2\n",
      "Rejected: \t6\n",
      "Iteration: \t85 / 100\n",
      "Confirmed: \t1\n",
      "Tentative: \t2\n",
      "Rejected: \t6\n",
      "Iteration: \t86 / 100\n",
      "Confirmed: \t1\n",
      "Tentative: \t2\n",
      "Rejected: \t6\n",
      "Iteration: \t87 / 100\n",
      "Confirmed: \t1\n",
      "Tentative: \t2\n",
      "Rejected: \t6\n",
      "Iteration: \t88 / 100\n",
      "Confirmed: \t1\n",
      "Tentative: \t2\n",
      "Rejected: \t6\n",
      "Iteration: \t89 / 100\n",
      "Confirmed: \t1\n",
      "Tentative: \t2\n",
      "Rejected: \t6\n",
      "Iteration: \t90 / 100\n",
      "Confirmed: \t1\n",
      "Tentative: \t2\n",
      "Rejected: \t6\n",
      "Iteration: \t91 / 100\n",
      "Confirmed: \t1\n",
      "Tentative: \t2\n",
      "Rejected: \t6\n",
      "Iteration: \t92 / 100\n",
      "Confirmed: \t1\n",
      "Tentative: \t2\n",
      "Rejected: \t6\n",
      "Iteration: \t93 / 100\n",
      "Confirmed: \t1\n",
      "Tentative: \t2\n",
      "Rejected: \t6\n",
      "Iteration: \t94 / 100\n",
      "Confirmed: \t1\n",
      "Tentative: \t2\n",
      "Rejected: \t6\n",
      "Iteration: \t95 / 100\n",
      "Confirmed: \t1\n",
      "Tentative: \t2\n",
      "Rejected: \t6\n",
      "Iteration: \t96 / 100\n",
      "Confirmed: \t1\n",
      "Tentative: \t2\n",
      "Rejected: \t6\n",
      "Iteration: \t97 / 100\n",
      "Confirmed: \t1\n",
      "Tentative: \t2\n",
      "Rejected: \t6\n",
      "Iteration: \t98 / 100\n",
      "Confirmed: \t1\n",
      "Tentative: \t2\n",
      "Rejected: \t6\n",
      "Iteration: \t99 / 100\n",
      "Confirmed: \t1\n",
      "Tentative: \t2\n",
      "Rejected: \t6\n",
      "\n",
      "\n",
      "BorutaPy finished running.\n",
      "\n",
      "Iteration: \t100 / 100\n",
      "Confirmed: \t1\n",
      "Tentative: \t1\n",
      "Rejected: \t6\n"
     ]
    },
    {
     "data": {
      "text/plain": [
       "BorutaPy(estimator=RandomForestClassifier(class_weight='balanced',\n",
       "                                          n_estimators=24, n_jobs=-1,\n",
       "                                          random_state=RandomState(MT19937) at 0x18C6FC53A40),\n",
       "         n_estimators='auto',\n",
       "         random_state=RandomState(MT19937) at 0x18C6FC53A40, verbose=2)"
      ]
     },
     "execution_count": 180,
     "metadata": {},
     "output_type": "execute_result"
    }
   ],
   "source": [
    "#define the features\n",
    "X = data.iloc[:,:-1].values\n",
    "y = data.iloc[:,-1].values\n",
    "\n",
    "\n",
    "from sklearn import preprocessing\n",
    "from sklearn import utils\n",
    "\n",
    "#convert y values to categorical values\n",
    "\n",
    "lab = preprocessing.LabelEncoder()\n",
    "y_transformed = lab.fit_transform(y)\n",
    "\n",
    "#view transformed values\n",
    "#print(y_transformed)\n",
    "\n",
    "\n",
    "\n",
    "forest = RandomForestClassifier(n_estimators=200, n_jobs=-1, class_weight='balanced')\n",
    "\n",
    "# define Boruta feature selection method\n",
    "feat_selector = BorutaPy(forest, n_estimators='auto', verbose=2)\n",
    " \n",
    "# find all relevant features\n",
    "feat_selector.fit(X, y_transformed)\n"
   ]
  },
  {
   "cell_type": "code",
   "execution_count": 181,
   "id": "5a51df46",
   "metadata": {},
   "outputs": [
    {
     "data": {
      "text/plain": [
       "['wallmotion-score']"
      ]
     },
     "execution_count": 181,
     "metadata": {},
     "output_type": "execute_result"
    }
   ],
   "source": [
    "# show the most important features\n",
    "most_important = data.columns[:-1][feat_selector.support_].tolist()\n",
    "most_important"
   ]
  },
  {
   "cell_type": "code",
   "execution_count": 183,
   "id": "80190fd8",
   "metadata": {},
   "outputs": [
    {
     "data": {
      "text/plain": [
       "['survival',\n",
       " 'age',\n",
       " 'fractionalshortening',\n",
       " 'epss',\n",
       " 'lvdd',\n",
       " 'wallmotion-score',\n",
       " 'wallmotion-index']"
      ]
     },
     "execution_count": 183,
     "metadata": {},
     "output_type": "execute_result"
    }
   ],
   "source": [
    "# select the top 7 features\n",
    "top_features = data.columns[:-1][feat_selector.ranking_ <=7].tolist()\n",
    "top_features"
   ]
  },
  {
   "cell_type": "code",
   "execution_count": null,
   "id": "bb16c556",
   "metadata": {},
   "outputs": [],
   "source": []
  },
  {
   "cell_type": "code",
   "execution_count": 184,
   "id": "a1f12619",
   "metadata": {},
   "outputs": [
    {
     "data": {
      "text/plain": [
       "Index(['survival', 'alive', 'age', 'pericardialeffusion',\n",
       "       'fractionalshortening', 'epss', 'lvdd', 'wallmotion-score',\n",
       "       'wallmotion-index', 'mult'],\n",
       "      dtype='object')"
      ]
     },
     "execution_count": 184,
     "metadata": {},
     "output_type": "execute_result"
    }
   ],
   "source": [
    "data.columns"
   ]
  },
  {
   "cell_type": "markdown",
   "id": "a708c73a",
   "metadata": {},
   "source": [
    "# Statistics on the top features"
   ]
  },
  {
   "cell_type": "code",
   "execution_count": 185,
   "id": "40e4679e",
   "metadata": {},
   "outputs": [],
   "source": [
    "import statsmodels.api as sm"
   ]
  },
  {
   "cell_type": "code",
   "execution_count": 186,
   "id": "2995383b",
   "metadata": {},
   "outputs": [],
   "source": [
    "X_top = data[top_features]\n",
    "y = data['alive']"
   ]
  },
  {
   "cell_type": "code",
   "execution_count": 187,
   "id": "6295384a",
   "metadata": {},
   "outputs": [
    {
     "name": "stdout",
     "output_type": "stream",
     "text": [
      "Optimization terminated successfully.\n",
      "         Current function value: 0.243478\n",
      "         Iterations 8\n"
     ]
    },
    {
     "data": {
      "text/html": [
       "<table class=\"simpletable\">\n",
       "<caption>Logit Regression Results</caption>\n",
       "<tr>\n",
       "  <th>Dep. Variable:</th>         <td>alive</td>      <th>  No. Observations:  </th>  <td>   131</td>  \n",
       "</tr>\n",
       "<tr>\n",
       "  <th>Model:</th>                 <td>Logit</td>      <th>  Df Residuals:      </th>  <td>   124</td>  \n",
       "</tr>\n",
       "<tr>\n",
       "  <th>Method:</th>                 <td>MLE</td>       <th>  Df Model:          </th>  <td>     6</td>  \n",
       "</tr>\n",
       "<tr>\n",
       "  <th>Date:</th>            <td>Fri, 26 Aug 2022</td> <th>  Pseudo R-squ.:     </th>  <td>0.6153</td>  \n",
       "</tr>\n",
       "<tr>\n",
       "  <th>Time:</th>                <td>00:07:37</td>     <th>  Log-Likelihood:    </th> <td> -31.896</td> \n",
       "</tr>\n",
       "<tr>\n",
       "  <th>converged:</th>             <td>True</td>       <th>  LL-Null:           </th> <td> -82.914</td> \n",
       "</tr>\n",
       "<tr>\n",
       "  <th>Covariance Type:</th>     <td>nonrobust</td>    <th>  LLR p-value:       </th> <td>9.432e-20</td>\n",
       "</tr>\n",
       "</table>\n",
       "<table class=\"simpletable\">\n",
       "<tr>\n",
       "            <td></td>              <th>coef</th>     <th>std err</th>      <th>z</th>      <th>P>|z|</th>  <th>[0.025</th>    <th>0.975]</th>  \n",
       "</tr>\n",
       "<tr>\n",
       "  <th>survival</th>             <td>   -0.2051</td> <td>    0.039</td> <td>   -5.212</td> <td> 0.000</td> <td>   -0.282</td> <td>   -0.128</td>\n",
       "</tr>\n",
       "<tr>\n",
       "  <th>age</th>                  <td>    0.0824</td> <td>    0.042</td> <td>    1.980</td> <td> 0.048</td> <td>    0.001</td> <td>    0.164</td>\n",
       "</tr>\n",
       "<tr>\n",
       "  <th>fractionalshortening</th> <td>   -7.8334</td> <td>    4.135</td> <td>   -1.894</td> <td> 0.058</td> <td>  -15.938</td> <td>    0.272</td>\n",
       "</tr>\n",
       "<tr>\n",
       "  <th>epss</th>                 <td>    0.0991</td> <td>    0.070</td> <td>    1.419</td> <td> 0.156</td> <td>   -0.038</td> <td>    0.236</td>\n",
       "</tr>\n",
       "<tr>\n",
       "  <th>lvdd</th>                 <td>   -0.4954</td> <td>    0.539</td> <td>   -0.920</td> <td> 0.358</td> <td>   -1.551</td> <td>    0.561</td>\n",
       "</tr>\n",
       "<tr>\n",
       "  <th>wallmotion-score</th>     <td>   -0.1529</td> <td>    0.112</td> <td>   -1.369</td> <td> 0.171</td> <td>   -0.372</td> <td>    0.066</td>\n",
       "</tr>\n",
       "<tr>\n",
       "  <th>wallmotion-index</th>     <td>    1.7109</td> <td>    1.245</td> <td>    1.374</td> <td> 0.169</td> <td>   -0.729</td> <td>    4.151</td>\n",
       "</tr>\n",
       "</table>"
      ],
      "text/plain": [
       "<class 'statsmodels.iolib.summary.Summary'>\n",
       "\"\"\"\n",
       "                           Logit Regression Results                           \n",
       "==============================================================================\n",
       "Dep. Variable:                  alive   No. Observations:                  131\n",
       "Model:                          Logit   Df Residuals:                      124\n",
       "Method:                           MLE   Df Model:                            6\n",
       "Date:                Fri, 26 Aug 2022   Pseudo R-squ.:                  0.6153\n",
       "Time:                        00:07:37   Log-Likelihood:                -31.896\n",
       "converged:                       True   LL-Null:                       -82.914\n",
       "Covariance Type:            nonrobust   LLR p-value:                 9.432e-20\n",
       "========================================================================================\n",
       "                           coef    std err          z      P>|z|      [0.025      0.975]\n",
       "----------------------------------------------------------------------------------------\n",
       "survival                -0.2051      0.039     -5.212      0.000      -0.282      -0.128\n",
       "age                      0.0824      0.042      1.980      0.048       0.001       0.164\n",
       "fractionalshortening    -7.8334      4.135     -1.894      0.058     -15.938       0.272\n",
       "epss                     0.0991      0.070      1.419      0.156      -0.038       0.236\n",
       "lvdd                    -0.4954      0.539     -0.920      0.358      -1.551       0.561\n",
       "wallmotion-score        -0.1529      0.112     -1.369      0.171      -0.372       0.066\n",
       "wallmotion-index         1.7109      1.245      1.374      0.169      -0.729       4.151\n",
       "========================================================================================\n",
       "\"\"\""
      ]
     },
     "execution_count": 187,
     "metadata": {},
     "output_type": "execute_result"
    }
   ],
   "source": [
    "res = sm.Logit(y,X_top).fit()\n",
    "res.summary()"
   ]
  },
  {
   "cell_type": "code",
   "execution_count": null,
   "id": "8d532e3e",
   "metadata": {},
   "outputs": [],
   "source": []
  },
  {
   "cell_type": "code",
   "execution_count": null,
   "id": "d17cd204",
   "metadata": {},
   "outputs": [],
   "source": []
  },
  {
   "cell_type": "code",
   "execution_count": 188,
   "id": "64cb8299",
   "metadata": {},
   "outputs": [],
   "source": [
    "from sklearn.model_selection import train_test_split\n",
    "from sklearn.linear_model import LogisticRegression\n",
    "from sklearn.tree import DecisionTreeClassifier\n",
    "from sklearn.ensemble import RandomForestClassifier, GradientBoostingClassifier\n",
    "from sklearn.metrics import accuracy_score, classification_report"
   ]
  },
  {
   "cell_type": "code",
   "execution_count": 189,
   "id": "cdc9554e",
   "metadata": {},
   "outputs": [],
   "source": [
    "data = data[mask]"
   ]
  },
  {
   "cell_type": "code",
   "execution_count": 190,
   "id": "24721d2d",
   "metadata": {},
   "outputs": [],
   "source": [
    "from sklearn.preprocessing import StandardScaler\n",
    "\n",
    "data1 = pd.get_dummies(data, columns = discrete_features, drop_first = True)\n",
    "scaler = StandardScaler()\n",
    "data1[continuous_features] = scaler.fit_transform(data1[continuous_features])"
   ]
  },
  {
   "cell_type": "code",
   "execution_count": 191,
   "id": "4c32b608",
   "metadata": {},
   "outputs": [
    {
     "data": {
      "text/html": [
       "<div>\n",
       "<style scoped>\n",
       "    .dataframe tbody tr th:only-of-type {\n",
       "        vertical-align: middle;\n",
       "    }\n",
       "\n",
       "    .dataframe tbody tr th {\n",
       "        vertical-align: top;\n",
       "    }\n",
       "\n",
       "    .dataframe thead th {\n",
       "        text-align: right;\n",
       "    }\n",
       "</style>\n",
       "<table border=\"1\" class=\"dataframe\">\n",
       "  <thead>\n",
       "    <tr style=\"text-align: right;\">\n",
       "      <th></th>\n",
       "      <th>survival</th>\n",
       "      <th>alive</th>\n",
       "      <th>age</th>\n",
       "      <th>fractionalshortening</th>\n",
       "      <th>epss</th>\n",
       "      <th>lvdd</th>\n",
       "      <th>wallmotion-score</th>\n",
       "      <th>wallmotion-index</th>\n",
       "      <th>mult</th>\n",
       "      <th>pericardialeffusion_1.0</th>\n",
       "    </tr>\n",
       "  </thead>\n",
       "  <tbody>\n",
       "    <tr>\n",
       "      <th>0</th>\n",
       "      <td>-0.729968</td>\n",
       "      <td>0.0</td>\n",
       "      <td>1.039461</td>\n",
       "      <td>0.419602</td>\n",
       "      <td>-0.470229</td>\n",
       "      <td>-0.190540</td>\n",
       "      <td>-0.050728</td>\n",
       "      <td>-0.856557</td>\n",
       "      <td>1.156755</td>\n",
       "      <td>0</td>\n",
       "    </tr>\n",
       "    <tr>\n",
       "      <th>1</th>\n",
       "      <td>-0.221716</td>\n",
       "      <td>0.0</td>\n",
       "      <td>1.170502</td>\n",
       "      <td>1.580619</td>\n",
       "      <td>-0.940477</td>\n",
       "      <td>-0.839869</td>\n",
       "      <td>-0.050728</td>\n",
       "      <td>0.769979</td>\n",
       "      <td>-0.939966</td>\n",
       "      <td>0</td>\n",
       "    </tr>\n",
       "    <tr>\n",
       "      <th>2</th>\n",
       "      <td>-0.412311</td>\n",
       "      <td>0.0</td>\n",
       "      <td>-1.057203</td>\n",
       "      <td>0.419602</td>\n",
       "      <td>-1.253976</td>\n",
       "      <td>-1.722956</td>\n",
       "      <td>-0.050728</td>\n",
       "      <td>-0.856557</td>\n",
       "      <td>1.156755</td>\n",
       "      <td>0</td>\n",
       "    </tr>\n",
       "    <tr>\n",
       "      <th>3</th>\n",
       "      <td>2.192480</td>\n",
       "      <td>0.0</td>\n",
       "      <td>-0.401996</td>\n",
       "      <td>0.351875</td>\n",
       "      <td>0.009737</td>\n",
       "      <td>-0.186644</td>\n",
       "      <td>0.392359</td>\n",
       "      <td>0.189073</td>\n",
       "      <td>0.077860</td>\n",
       "      <td>0</td>\n",
       "    </tr>\n",
       "    <tr>\n",
       "      <th>4</th>\n",
       "      <td>-0.221716</td>\n",
       "      <td>1.0</td>\n",
       "      <td>-0.795120</td>\n",
       "      <td>-0.547913</td>\n",
       "      <td>1.567512</td>\n",
       "      <td>1.302915</td>\n",
       "      <td>0.835445</td>\n",
       "      <td>2.047971</td>\n",
       "      <td>-1.026482</td>\n",
       "      <td>0</td>\n",
       "    </tr>\n",
       "  </tbody>\n",
       "</table>\n",
       "</div>"
      ],
      "text/plain": [
       "   survival  alive       age  fractionalshortening      epss      lvdd  \\\n",
       "0 -0.729968    0.0  1.039461              0.419602 -0.470229 -0.190540   \n",
       "1 -0.221716    0.0  1.170502              1.580619 -0.940477 -0.839869   \n",
       "2 -0.412311    0.0 -1.057203              0.419602 -1.253976 -1.722956   \n",
       "3  2.192480    0.0 -0.401996              0.351875  0.009737 -0.186644   \n",
       "4 -0.221716    1.0 -0.795120             -0.547913  1.567512  1.302915   \n",
       "\n",
       "   wallmotion-score  wallmotion-index      mult  pericardialeffusion_1.0  \n",
       "0         -0.050728         -0.856557  1.156755                        0  \n",
       "1         -0.050728          0.769979 -0.939966                        0  \n",
       "2         -0.050728         -0.856557  1.156755                        0  \n",
       "3          0.392359          0.189073  0.077860                        0  \n",
       "4          0.835445          2.047971 -1.026482                        0  "
      ]
     },
     "execution_count": 191,
     "metadata": {},
     "output_type": "execute_result"
    }
   ],
   "source": [
    "data1.head()"
   ]
  },
  {
   "cell_type": "code",
   "execution_count": 192,
   "id": "c3ceb2fc",
   "metadata": {},
   "outputs": [
    {
     "name": "stderr",
     "output_type": "stream",
     "text": [
      "C:\\Users\\RANASA~1\\AppData\\Local\\Temp/ipykernel_3872/3058299409.py:1: FutureWarning: In a future version of pandas all arguments of DataFrame.drop except for the argument 'labels' will be keyword-only\n",
      "  X = data1.drop(['alive'], 1)\n"
     ]
    }
   ],
   "source": [
    "X = data1.drop(['alive'], 1)\n",
    "y = data1['alive']"
   ]
  },
  {
   "cell_type": "code",
   "execution_count": null,
   "id": "89833bd5",
   "metadata": {},
   "outputs": [],
   "source": []
  },
  {
   "cell_type": "markdown",
   "id": "d7de960c",
   "metadata": {},
   "source": [
    "# Splitting data into Training and Testing"
   ]
  },
  {
   "cell_type": "markdown",
   "id": "6f222065",
   "metadata": {},
   "source": [
    "Splitting 70% training data and 30% testing data"
   ]
  },
  {
   "cell_type": "code",
   "execution_count": 205,
   "id": "de8a442c",
   "metadata": {},
   "outputs": [],
   "source": [
    "#Importing our ML toolkit\n",
    "from sklearn.preprocessing import StandardScaler\n",
    "from sklearn.model_selection import train_test_split\n",
    "from sklearn.pipeline import Pipeline\n",
    "from sklearn.linear_model import LogisticRegression\n",
    "from sklearn.metrics import accuracy_score, plot_confusion_matrix,classification_report\n",
    "from sklearn.svm import SVC\n",
    "import pickle\n",
    "\n",
    "from sklearn.neighbors import KNeighborsClassifier\n",
    "from sklearn.tree import DecisionTreeClassifier\n",
    "from sklearn.ensemble import RandomForestClassifier\n",
    "from sklearn.ensemble import AdaBoostClassifier\n",
    "from sklearn.ensemble import GradientBoostingClassifier\n",
    "from xgboost import XGBClassifier, plot_importance\n",
    "from sklearn.model_selection import GridSearchCV, cross_val_score, StratifiedKFold, learning_curve"
   ]
  },
  {
   "cell_type": "code",
   "execution_count": 206,
   "id": "62071433",
   "metadata": {},
   "outputs": [
    {
     "data": {
      "text/plain": [
       "((88, 9), (39, 9))"
      ]
     },
     "execution_count": 206,
     "metadata": {},
     "output_type": "execute_result"
    }
   ],
   "source": [
    "X_train, X_test, y_train, y_test = train_test_split(X, y, test_size=0.3, random_state=0)\n",
    "X_train.shape, X_test.shape"
   ]
  },
  {
   "cell_type": "code",
   "execution_count": null,
   "id": "35e1e0c0",
   "metadata": {},
   "outputs": [],
   "source": []
  },
  {
   "cell_type": "markdown",
   "id": "2810d2f4",
   "metadata": {},
   "source": [
    "# Building Models"
   ]
  },
  {
   "cell_type": "code",
   "execution_count": null,
   "id": "8aa95767",
   "metadata": {},
   "outputs": [],
   "source": []
  },
  {
   "cell_type": "code",
   "execution_count": 207,
   "id": "739f5a3a",
   "metadata": {},
   "outputs": [],
   "source": [
    "accuracy = {}"
   ]
  },
  {
   "cell_type": "code",
   "execution_count": 216,
   "id": "33f7fadc",
   "metadata": {},
   "outputs": [
    {
     "name": "stdout",
     "output_type": "stream",
     "text": [
      "0.8461538461538461\n"
     ]
    }
   ],
   "source": [
    "model1 = LogisticRegression(max_iter=200)\n",
    "model1.fit(X_train, y_train)\n",
    "y_pred1 = model1.predict(X_test)\n",
    "print(accuracy_score(y_test, y_pred1))\n",
    "accuracy[str(model1)] = accuracy_score(y_test, y_pred1)*100"
   ]
  },
  {
   "cell_type": "code",
   "execution_count": 217,
   "id": "e346a931",
   "metadata": {},
   "outputs": [
    {
     "data": {
      "text/plain": [
       "<AxesSubplot:>"
      ]
     },
     "execution_count": 217,
     "metadata": {},
     "output_type": "execute_result"
    },
    {
     "data": {
      "image/png": "[encoded data removed]",
      "text/plain": [
       "<Figure size 576x360 with 2 Axes>"
      ]
     },
     "metadata": {
      "needs_background": "light"
     },
     "output_type": "display_data"
    }
   ],
   "source": [
    "from sklearn.metrics import confusion_matrix\n",
    "\n",
    "cm=confusion_matrix(y_test,y_pred1)\n",
    "\n",
    "conf_matrix=pd.DataFrame(data=cm,columns=['Predicted:0','Predicted:1'],index=['Actual:0','Actual:1'])\n",
    "plt.figure(figsize = (8,5))\n",
    "sns.heatmap(conf_matrix, annot=True,fmt='d',cmap=\"YlGnBu\")"
   ]
  },
  {
   "cell_type": "code",
   "execution_count": 219,
   "id": "1647ea33",
   "metadata": {},
   "outputs": [
    {
     "name": "stdout",
     "output_type": "stream",
     "text": [
      "              precision    recall  f1-score   support\n",
      "\n",
      "         0.0       0.85      0.92      0.88        25\n",
      "         1.0       0.83      0.71      0.77        14\n",
      "\n",
      "    accuracy                           0.85        39\n",
      "   macro avg       0.84      0.82      0.83        39\n",
      "weighted avg       0.85      0.85      0.84        39\n",
      "\n"
     ]
    }
   ],
   "source": [
    "print(classification_report(y_test,y_pred1))"
   ]
  },
  {
   "cell_type": "code",
   "execution_count": 277,
   "id": "12202765",
   "metadata": {},
   "outputs": [
    {
     "data": {
      "image/png": "[encoded data removed]",
      "text/plain": [
       "<Figure size 720x432 with 1 Axes>"
      ]
     },
     "metadata": {},
     "output_type": "display_data"
    }
   ],
   "source": [
    "# ROC curve and AUC \n",
    "probs = model1.predict_proba(X_test)\n",
    "# keep probabilities for the positive outcome only\n",
    "probs = probs[:, 1]\n",
    "# calculate AUC\n",
    "log_auc = roc_auc_score(y_test, probs)\n",
    "\n",
    "# calculate roc curve\n",
    "fpr, tpr, thresholds = roc_curve(y_test, probs)\n",
    "# plot curve\n",
    "sns.set_style('whitegrid')\n",
    "plt.figure(figsize=(10,6))\n",
    "plt.plot([0, 1], [0, 1], linestyle='--')\n",
    "plt.plot(fpr, tpr, marker='.')\n",
    "plt.ylabel('True positive rate')\n",
    "plt.xlabel('False positive rate')\n",
    "plt.title(f\"AUC = {round(log_auc,3)}\")\n",
    "plt.show()"
   ]
  },
  {
   "cell_type": "markdown",
   "id": "b8bdb1e2",
   "metadata": {},
   "source": [
    "Save the model of LogisticRegression\n",
    "-"
   ]
  },
  {
   "cell_type": "code",
   "execution_count": null,
   "id": "d508ff43",
   "metadata": {},
   "outputs": [],
   "source": []
  },
  {
   "cell_type": "code",
   "execution_count": 220,
   "id": "454e725c",
   "metadata": {},
   "outputs": [],
   "source": [
    "import pickle\n",
    "\n",
    "# save the model to disk\n",
    "filename = 'LogisticRegression.sav'\n",
    "pickle.dump(model1, open(filename, 'wb'))\n",
    " "
   ]
  },
  {
   "cell_type": "code",
   "execution_count": 221,
   "id": "e94b9ce3",
   "metadata": {},
   "outputs": [],
   "source": [
    " \n",
    "# load the model from disk\n",
    "\n",
    "loaded_model = pickle.load(open(filename, 'rb'))\n",
    "result = loaded_model.score( X_test,  y_test)"
   ]
  },
  {
   "cell_type": "code",
   "execution_count": 225,
   "id": "93f0100e",
   "metadata": {},
   "outputs": [
    {
     "data": {
      "text/plain": [
       "0.8461538461538461"
      ]
     },
     "execution_count": 225,
     "metadata": {},
     "output_type": "execute_result"
    }
   ],
   "source": [
    "result"
   ]
  },
  {
   "cell_type": "markdown",
   "id": "d515e6d3",
   "metadata": {},
   "source": [
    "# Actual VS Predicted"
   ]
  },
  {
   "cell_type": "code",
   "execution_count": 231,
   "id": "12f2cc73",
   "metadata": {},
   "outputs": [],
   "source": [
    "y_pred_test = loaded_model.predict(X_test)\n",
    "y_pred_train = loaded_model.predict(X_train)"
   ]
  },
  {
   "cell_type": "code",
   "execution_count": 239,
   "id": "7083a4b3",
   "metadata": {},
   "outputs": [],
   "source": [
    "test = pd.DataFrame({\n",
    "    'Actual':y_test,\n",
    "    'Y test predicted':y_pred_test\n",
    "})\n",
    "\n",
    "train = pd.DataFrame({\n",
    "    'Actual':y_train,\n",
    "    'Y train predicted':y_pred_train\n",
    "})"
   ]
  },
  {
   "cell_type": "code",
   "execution_count": 240,
   "id": "035a9601",
   "metadata": {},
   "outputs": [
    {
     "data": {
      "text/html": [
       "<div>\n",
       "<style scoped>\n",
       "    .dataframe tbody tr th:only-of-type {\n",
       "        vertical-align: middle;\n",
       "    }\n",
       "\n",
       "    .dataframe tbody tr th {\n",
       "        vertical-align: top;\n",
       "    }\n",
       "\n",
       "    .dataframe thead th {\n",
       "        text-align: right;\n",
       "    }\n",
       "</style>\n",
       "<table border=\"1\" class=\"dataframe\">\n",
       "  <thead>\n",
       "    <tr style=\"text-align: right;\">\n",
       "      <th></th>\n",
       "      <th>Actual</th>\n",
       "      <th>Y test predicted</th>\n",
       "    </tr>\n",
       "  </thead>\n",
       "  <tbody>\n",
       "    <tr>\n",
       "      <th>78</th>\n",
       "      <td>1.0</td>\n",
       "      <td>1.0</td>\n",
       "    </tr>\n",
       "    <tr>\n",
       "      <th>106</th>\n",
       "      <td>0.0</td>\n",
       "      <td>0.0</td>\n",
       "    </tr>\n",
       "    <tr>\n",
       "      <th>90</th>\n",
       "      <td>1.0</td>\n",
       "      <td>0.0</td>\n",
       "    </tr>\n",
       "    <tr>\n",
       "      <th>14</th>\n",
       "      <td>1.0</td>\n",
       "      <td>1.0</td>\n",
       "    </tr>\n",
       "    <tr>\n",
       "      <th>76</th>\n",
       "      <td>0.0</td>\n",
       "      <td>0.0</td>\n",
       "    </tr>\n",
       "    <tr>\n",
       "      <th>56</th>\n",
       "      <td>0.0</td>\n",
       "      <td>0.0</td>\n",
       "    </tr>\n",
       "    <tr>\n",
       "      <th>35</th>\n",
       "      <td>0.0</td>\n",
       "      <td>0.0</td>\n",
       "    </tr>\n",
       "    <tr>\n",
       "      <th>132</th>\n",
       "      <td>0.0</td>\n",
       "      <td>0.0</td>\n",
       "    </tr>\n",
       "    <tr>\n",
       "      <th>47</th>\n",
       "      <td>1.0</td>\n",
       "      <td>0.0</td>\n",
       "    </tr>\n",
       "    <tr>\n",
       "      <th>111</th>\n",
       "      <td>0.0</td>\n",
       "      <td>0.0</td>\n",
       "    </tr>\n",
       "  </tbody>\n",
       "</table>\n",
       "</div>"
      ],
      "text/plain": [
       "     Actual  Y test predicted\n",
       "78      1.0               1.0\n",
       "106     0.0               0.0\n",
       "90      1.0               0.0\n",
       "14      1.0               1.0\n",
       "76      0.0               0.0\n",
       "56      0.0               0.0\n",
       "35      0.0               0.0\n",
       "132     0.0               0.0\n",
       "47      1.0               0.0\n",
       "111     0.0               0.0"
      ]
     },
     "execution_count": 240,
     "metadata": {},
     "output_type": "execute_result"
    }
   ],
   "source": [
    "test.sample(10)"
   ]
  },
  {
   "cell_type": "code",
   "execution_count": 245,
   "id": "8d1c4e47",
   "metadata": {},
   "outputs": [
    {
     "data": {
      "text/html": [
       "<div>\n",
       "<style scoped>\n",
       "    .dataframe tbody tr th:only-of-type {\n",
       "        vertical-align: middle;\n",
       "    }\n",
       "\n",
       "    .dataframe tbody tr th {\n",
       "        vertical-align: top;\n",
       "    }\n",
       "\n",
       "    .dataframe thead th {\n",
       "        text-align: right;\n",
       "    }\n",
       "</style>\n",
       "<table border=\"1\" class=\"dataframe\">\n",
       "  <thead>\n",
       "    <tr style=\"text-align: right;\">\n",
       "      <th></th>\n",
       "      <th>survival</th>\n",
       "      <th>age</th>\n",
       "      <th>fractionalshortening</th>\n",
       "      <th>epss</th>\n",
       "      <th>lvdd</th>\n",
       "      <th>wallmotion-score</th>\n",
       "      <th>wallmotion-index</th>\n",
       "      <th>mult</th>\n",
       "      <th>pericardialeffusion_1.0</th>\n",
       "    </tr>\n",
       "  </thead>\n",
       "  <tbody>\n",
       "    <tr>\n",
       "      <th>9</th>\n",
       "      <td>0.159473</td>\n",
       "      <td>-1.188245</td>\n",
       "      <td>-0.741416</td>\n",
       "      <td>0.156768</td>\n",
       "      <td>-0.333393</td>\n",
       "      <td>0.281587</td>\n",
       "      <td>-0.415068</td>\n",
       "      <td>0.800516</td>\n",
       "      <td>0</td>\n",
       "    </tr>\n",
       "    <tr>\n",
       "      <th>56</th>\n",
       "      <td>-0.793500</td>\n",
       "      <td>0.384253</td>\n",
       "      <td>0.709856</td>\n",
       "      <td>0.564316</td>\n",
       "      <td>1.822378</td>\n",
       "      <td>-0.050728</td>\n",
       "      <td>-0.856557</td>\n",
       "      <td>1.156755</td>\n",
       "      <td>0</td>\n",
       "    </tr>\n",
       "    <tr>\n",
       "      <th>132</th>\n",
       "      <td>-0.158185</td>\n",
       "      <td>-0.139913</td>\n",
       "      <td>-0.644665</td>\n",
       "      <td>-1.880973</td>\n",
       "      <td>-0.307419</td>\n",
       "      <td>0.281587</td>\n",
       "      <td>0.093805</td>\n",
       "      <td>0.067681</td>\n",
       "      <td>0</td>\n",
       "    </tr>\n",
       "    <tr>\n",
       "      <th>25</th>\n",
       "      <td>0.413598</td>\n",
       "      <td>-1.188245</td>\n",
       "      <td>0.806608</td>\n",
       "      <td>-0.783728</td>\n",
       "      <td>-1.164533</td>\n",
       "      <td>-0.936902</td>\n",
       "      <td>0.693299</td>\n",
       "      <td>-1.744049</td>\n",
       "      <td>0</td>\n",
       "    </tr>\n",
       "    <tr>\n",
       "      <th>42</th>\n",
       "      <td>1.112445</td>\n",
       "      <td>2.087793</td>\n",
       "      <td>-0.644665</td>\n",
       "      <td>0.862140</td>\n",
       "      <td>-0.619097</td>\n",
       "      <td>-0.272272</td>\n",
       "      <td>-0.159470</td>\n",
       "      <td>-0.298736</td>\n",
       "      <td>0</td>\n",
       "    </tr>\n",
       "  </tbody>\n",
       "</table>\n",
       "</div>"
      ],
      "text/plain": [
       "     survival       age  fractionalshortening      epss      lvdd  \\\n",
       "9    0.159473 -1.188245             -0.741416  0.156768 -0.333393   \n",
       "56  -0.793500  0.384253              0.709856  0.564316  1.822378   \n",
       "132 -0.158185 -0.139913             -0.644665 -1.880973 -0.307419   \n",
       "25   0.413598 -1.188245              0.806608 -0.783728 -1.164533   \n",
       "42   1.112445  2.087793             -0.644665  0.862140 -0.619097   \n",
       "\n",
       "     wallmotion-score  wallmotion-index      mult  pericardialeffusion_1.0  \n",
       "9            0.281587         -0.415068  0.800516                        0  \n",
       "56          -0.050728         -0.856557  1.156755                        0  \n",
       "132          0.281587          0.093805  0.067681                        0  \n",
       "25          -0.936902          0.693299 -1.744049                        0  \n",
       "42          -0.272272         -0.159470 -0.298736                        0  "
      ]
     },
     "execution_count": 245,
     "metadata": {},
     "output_type": "execute_result"
    }
   ],
   "source": [
    "X_test.head()"
   ]
  },
  {
   "cell_type": "code",
   "execution_count": 269,
   "id": "6e73b339",
   "metadata": {},
   "outputs": [
    {
     "data": {
      "text/html": [
       "<div>\n",
       "<style scoped>\n",
       "    .dataframe tbody tr th:only-of-type {\n",
       "        vertical-align: middle;\n",
       "    }\n",
       "\n",
       "    .dataframe tbody tr th {\n",
       "        vertical-align: top;\n",
       "    }\n",
       "\n",
       "    .dataframe thead th {\n",
       "        text-align: right;\n",
       "    }\n",
       "</style>\n",
       "<table border=\"1\" class=\"dataframe\">\n",
       "  <thead>\n",
       "    <tr style=\"text-align: right;\">\n",
       "      <th></th>\n",
       "      <th>survival</th>\n",
       "      <th>age</th>\n",
       "      <th>fractionalshortening</th>\n",
       "      <th>epss</th>\n",
       "      <th>lvdd</th>\n",
       "      <th>wallmotion-score</th>\n",
       "      <th>wallmotion-index</th>\n",
       "      <th>mult</th>\n",
       "      <th>pericardialeffusion_1.0</th>\n",
       "    </tr>\n",
       "  </thead>\n",
       "  <tbody>\n",
       "    <tr>\n",
       "      <th>9</th>\n",
       "      <td>0.159473</td>\n",
       "      <td>-1.188245</td>\n",
       "      <td>-0.741416</td>\n",
       "      <td>0.156768</td>\n",
       "      <td>-0.333393</td>\n",
       "      <td>0.281587</td>\n",
       "      <td>-0.415068</td>\n",
       "      <td>0.800516</td>\n",
       "      <td>0</td>\n",
       "    </tr>\n",
       "  </tbody>\n",
       "</table>\n",
       "</div>"
      ],
      "text/plain": [
       "   survival       age  fractionalshortening      epss      lvdd  \\\n",
       "9  0.159473 -1.188245             -0.741416  0.156768 -0.333393   \n",
       "\n",
       "   wallmotion-score  wallmotion-index      mult  pericardialeffusion_1.0  \n",
       "9          0.281587         -0.415068  0.800516                        0  "
      ]
     },
     "execution_count": 269,
     "metadata": {},
     "output_type": "execute_result"
    }
   ],
   "source": [
    "data = X_test[:1]\n",
    "\n",
    "data"
   ]
  },
  {
   "cell_type": "code",
   "execution_count": 270,
   "id": "d6d6043b",
   "metadata": {},
   "outputs": [
    {
     "name": "stdout",
     "output_type": "stream",
     "text": [
      "You are not at risk\n"
     ]
    }
   ],
   "source": [
    "prediction = loaded_model.predict(data)\n",
    "\n",
    "print(\"You are not at risk\") if prediction[0] == 0 else print(\"You are at risk\")"
   ]
  },
  {
   "cell_type": "code",
   "execution_count": null,
   "id": "60f23a72",
   "metadata": {},
   "outputs": [],
   "source": []
  },
  {
   "cell_type": "code",
   "execution_count": 271,
   "id": "ffb418fd",
   "metadata": {},
   "outputs": [
    {
     "name": "stdout",
     "output_type": "stream",
     "text": [
      "[0. 0. 0. 0. 0. 1. 1. 1. 0. 0. 0. 0. 0. 1. 0.]\n",
      "\n",
      "[0. 0. 0. 0. 0. 1. 1. 1. 0. 0. 0. 0. 0. 0. 0.]\n"
     ]
    }
   ],
   "source": [
    "# predict test dataset\n",
    "y_test_pred = loaded_model.predict(X_test)\n",
    "\n",
    "# let's check the prediction and the actual value\n",
    "print(y_test[:15].values)\n",
    "print()\n",
    "print(y_test_pred[:15].round(2))"
   ]
  },
  {
   "cell_type": "code",
   "execution_count": null,
   "id": "6904befa",
   "metadata": {},
   "outputs": [],
   "source": []
  },
  {
   "cell_type": "markdown",
   "id": "06481bb4",
   "metadata": {},
   "source": [
    "# DecisionTreeClassifier"
   ]
  },
  {
   "cell_type": "code",
   "execution_count": null,
   "id": "1b7534fb",
   "metadata": {},
   "outputs": [],
   "source": []
  },
  {
   "cell_type": "code",
   "execution_count": 272,
   "id": "816b531b",
   "metadata": {},
   "outputs": [
    {
     "name": "stdout",
     "output_type": "stream",
     "text": [
      "0.8974358974358975\n"
     ]
    }
   ],
   "source": [
    "model2 = DecisionTreeClassifier(max_depth=3)\n",
    "model2.fit(X_train, y_train)\n",
    "y_pred2 = model2.predict(X_test)\n",
    "print(accuracy_score(y_test, y_pred2))\n",
    "accuracy[str(model2)] = accuracy_score(y_test, y_pred2)*100"
   ]
  },
  {
   "cell_type": "code",
   "execution_count": 273,
   "id": "14ee1b7a",
   "metadata": {},
   "outputs": [
    {
     "data": {
      "text/plain": [
       "<AxesSubplot:>"
      ]
     },
     "execution_count": 273,
     "metadata": {},
     "output_type": "execute_result"
    },
    {
     "data": {
      "image/png": "[encoded data removed]",
      "text/plain": [
       "<Figure size 576x360 with 2 Axes>"
      ]
     },
     "metadata": {
      "needs_background": "light"
     },
     "output_type": "display_data"
    }
   ],
   "source": [
    "from sklearn.metrics import confusion_matrix\n",
    "\n",
    "cm=confusion_matrix(y_test,y_pred2)\n",
    "\n",
    "conf_matrix=pd.DataFrame(data=cm,columns=['Predicted:0','Predicted:1'],index=['Actual:0','Actual:1'])\n",
    "plt.figure(figsize = (8,5))\n",
    "sns.heatmap(conf_matrix, annot=True,fmt='d',cmap=\"YlGnBu\")"
   ]
  },
  {
   "cell_type": "code",
   "execution_count": 280,
   "id": "7f926966",
   "metadata": {},
   "outputs": [
    {
     "name": "stdout",
     "output_type": "stream",
     "text": [
      "              precision    recall  f1-score   support\n",
      "\n",
      "         0.0       0.89      0.96      0.92        25\n",
      "         1.0       0.92      0.79      0.85        14\n",
      "\n",
      "    accuracy                           0.90        39\n",
      "   macro avg       0.90      0.87      0.88        39\n",
      "weighted avg       0.90      0.90      0.90        39\n",
      "\n"
     ]
    }
   ],
   "source": [
    "print(classification_report(y_test,y_pred2))"
   ]
  },
  {
   "cell_type": "code",
   "execution_count": 295,
   "id": "ab154b09",
   "metadata": {},
   "outputs": [
    {
     "name": "stdout",
     "output_type": "stream",
     "text": [
      "The f1 score for DecisionTreeClassifier is 84.62%\n"
     ]
    }
   ],
   "source": [
    "from sklearn.metrics import f1_score\n",
    "from sklearn.metrics import recall_score,precision_score,classification_report,roc_auc_score,roc_curve\n",
    "\n",
    "logistic_f1 = f1_score(y_test, y_pred2)\n",
    "print(f'The f1 score for DecisionTreeClassifier is {round(logistic_f1*100,2)}%')"
   ]
  },
  {
   "cell_type": "code",
   "execution_count": 296,
   "id": "f9dd637f",
   "metadata": {},
   "outputs": [
    {
     "data": {
      "image/png": "[encoded data removed]",
      "text/plain": [
       "<Figure size 720x432 with 1 Axes>"
      ]
     },
     "metadata": {},
     "output_type": "display_data"
    }
   ],
   "source": [
    "# ROC curve and AUC \n",
    "probs = model2.predict_proba(X_test)\n",
    "# keep probabilities for the positive outcome only\n",
    "probs = probs[:, 1]\n",
    "# calculate AUC\n",
    "log_auc = roc_auc_score(y_test, probs)\n",
    "\n",
    "# calculate roc curve\n",
    "fpr, tpr, thresholds = roc_curve(y_test, probs)\n",
    "# plot curve\n",
    "sns.set_style('whitegrid')\n",
    "plt.figure(figsize=(10,6))\n",
    "plt.plot([0, 1], [0, 1], linestyle='--')\n",
    "plt.plot(fpr, tpr, marker='.')\n",
    "plt.ylabel('True positive rate')\n",
    "plt.xlabel('False positive rate')\n",
    "plt.title(f\"AUC = {round(log_auc,3)}\")\n",
    "plt.show()"
   ]
  },
  {
   "cell_type": "code",
   "execution_count": 284,
   "id": "2035ffb7",
   "metadata": {},
   "outputs": [],
   "source": [
    "import pickle\n",
    "\n",
    "# save the model to disk\n",
    "filename = 'DecisionTreeClassifier.sav'\n",
    "pickle.dump(model1, open(filename, 'wb'))\n",
    " "
   ]
  },
  {
   "cell_type": "code",
   "execution_count": null,
   "id": "ea7b213d",
   "metadata": {},
   "outputs": [],
   "source": []
  },
  {
   "cell_type": "markdown",
   "id": "d45c930c",
   "metadata": {},
   "source": [
    "# RandomForestClassifier"
   ]
  },
  {
   "cell_type": "code",
   "execution_count": null,
   "id": "dd8ad7f1",
   "metadata": {},
   "outputs": [],
   "source": []
  },
  {
   "cell_type": "code",
   "execution_count": 290,
   "id": "dd2237b2",
   "metadata": {},
   "outputs": [
    {
     "name": "stdout",
     "output_type": "stream",
     "text": [
      "0.9230769230769231\n"
     ]
    }
   ],
   "source": [
    "model3 = RandomForestClassifier(max_depth=6)\n",
    "model3.fit(X_train, y_train)\n",
    "y_pred3 = model3.predict(X_test)\n",
    "print(accuracy_score(y_test, y_pred3))\n",
    "accuracy[str(model3)] = accuracy_score(y_test, y_pred3)*100"
   ]
  },
  {
   "cell_type": "code",
   "execution_count": 291,
   "id": "e84497d6",
   "metadata": {},
   "outputs": [
    {
     "data": {
      "text/plain": [
       "<AxesSubplot:>"
      ]
     },
     "execution_count": 291,
     "metadata": {},
     "output_type": "execute_result"
    },
    {
     "data": {
      "image/png": "[encoded data removed]",
      "text/plain": [
       "<Figure size 576x360 with 2 Axes>"
      ]
     },
     "metadata": {},
     "output_type": "display_data"
    }
   ],
   "source": [
    "from sklearn.metrics import confusion_matrix\n",
    "\n",
    "cm=confusion_matrix(y_test,y_pred3)\n",
    "\n",
    "conf_matrix=pd.DataFrame(data=cm,columns=['Predicted:0','Predicted:1'],index=['Actual:0','Actual:1'])\n",
    "plt.figure(figsize = (8,5))\n",
    "sns.heatmap(conf_matrix, annot=True,fmt='d',cmap=\"YlGnBu\")"
   ]
  },
  {
   "cell_type": "code",
   "execution_count": 292,
   "id": "e3cea0a4",
   "metadata": {},
   "outputs": [
    {
     "name": "stdout",
     "output_type": "stream",
     "text": [
      "              precision    recall  f1-score   support\n",
      "\n",
      "         0.0       0.89      1.00      0.94        25\n",
      "         1.0       1.00      0.79      0.88        14\n",
      "\n",
      "    accuracy                           0.92        39\n",
      "   macro avg       0.95      0.89      0.91        39\n",
      "weighted avg       0.93      0.92      0.92        39\n",
      "\n"
     ]
    }
   ],
   "source": [
    "print(classification_report(y_test,y_pred3))"
   ]
  },
  {
   "cell_type": "code",
   "execution_count": 293,
   "id": "d06065db",
   "metadata": {},
   "outputs": [
    {
     "name": "stdout",
     "output_type": "stream",
     "text": [
      "The f1 score for RandomForestClassifier is 88.0%\n"
     ]
    }
   ],
   "source": [
    "from sklearn.metrics import f1_score\n",
    "from sklearn.metrics import recall_score,precision_score,classification_report,roc_auc_score,roc_curve\n",
    "\n",
    "logistic_f1 = f1_score(y_test, y_pred3)\n",
    "print(f'The f1 score for RandomForestClassifier is {round(logistic_f1*100,2)}%')"
   ]
  },
  {
   "cell_type": "code",
   "execution_count": 294,
   "id": "25605109",
   "metadata": {},
   "outputs": [
    {
     "data": {
      "image/png": "[encoded data removed]",
      "text/plain": [
       "<Figure size 720x432 with 1 Axes>"
      ]
     },
     "metadata": {},
     "output_type": "display_data"
    }
   ],
   "source": [
    "# ROC curve and AUC \n",
    "probs = model3.predict_proba(X_test)\n",
    "# keep probabilities for the positive outcome only\n",
    "probs = probs[:, 1]\n",
    "# calculate AUC\n",
    "log_auc = roc_auc_score(y_test, probs)\n",
    "\n",
    "# calculate roc curve\n",
    "fpr, tpr, thresholds = roc_curve(y_test, probs)\n",
    "# plot curve\n",
    "sns.set_style('whitegrid')\n",
    "plt.figure(figsize=(10,6))\n",
    "plt.plot([0, 1], [0, 1], linestyle='--')\n",
    "plt.plot(fpr, tpr, marker='.')\n",
    "plt.ylabel('True positive rate')\n",
    "plt.xlabel('False positive rate')\n",
    "plt.title(f\"AUC = {round(log_auc,3)}\")\n",
    "plt.show()"
   ]
  },
  {
   "cell_type": "code",
   "execution_count": null,
   "id": "574799d4",
   "metadata": {},
   "outputs": [],
   "source": [
    "import pickle\n",
    "\n",
    "# save the model to disk\n",
    "filename = 'RandomForestClassifier.sav'\n",
    "pickle.dump(model1, open(filename, 'wb'))\n",
    " "
   ]
  },
  {
   "cell_type": "code",
   "execution_count": null,
   "id": "1d77e296",
   "metadata": {},
   "outputs": [],
   "source": []
  },
  {
   "cell_type": "markdown",
   "id": "5657045d",
   "metadata": {},
   "source": [
    "# GradientBoostingClassifier"
   ]
  },
  {
   "cell_type": "code",
   "execution_count": null,
   "id": "5dc93f32",
   "metadata": {},
   "outputs": [],
   "source": []
  },
  {
   "cell_type": "code",
   "execution_count": 297,
   "id": "7a8e765d",
   "metadata": {},
   "outputs": [
    {
     "name": "stdout",
     "output_type": "stream",
     "text": [
      "0.8717948717948718\n"
     ]
    }
   ],
   "source": [
    "model4 = GradientBoostingClassifier(n_estimators=300, learning_rate=0.1)\n",
    "model4.fit(X_train, y_train)\n",
    "y_pred4 = model4.predict(X_test)\n",
    "print(accuracy_score(y_test, y_pred4))\n",
    "accuracy[str(model4)] = accuracy_score(y_test, y_pred4)*100"
   ]
  },
  {
   "cell_type": "code",
   "execution_count": 299,
   "id": "c6054173",
   "metadata": {},
   "outputs": [
    {
     "data": {
      "text/plain": [
       "<AxesSubplot:>"
      ]
     },
     "execution_count": 299,
     "metadata": {},
     "output_type": "execute_result"
    },
    {
     "data": {
      "image/png": "[encoded data removed]",
      "text/plain": [
       "<Figure size 576x360 with 2 Axes>"
      ]
     },
     "metadata": {},
     "output_type": "display_data"
    }
   ],
   "source": [
    "from sklearn.metrics import confusion_matrix\n",
    "\n",
    "cm=confusion_matrix(y_test,y_pred4)\n",
    "\n",
    "conf_matrix=pd.DataFrame(data=cm,columns=['Predicted:0','Predicted:1'],index=['Actual:0','Actual:1'])\n",
    "plt.figure(figsize = (8,5))\n",
    "sns.heatmap(conf_matrix, annot=True,fmt='d',cmap=\"YlGnBu\")"
   ]
  },
  {
   "cell_type": "code",
   "execution_count": 303,
   "id": "e9ab2e8c",
   "metadata": {},
   "outputs": [
    {
     "name": "stdout",
     "output_type": "stream",
     "text": [
      "              precision    recall  f1-score   support\n",
      "\n",
      "         0.0       0.92      0.88      0.90        25\n",
      "         1.0       0.80      0.86      0.83        14\n",
      "\n",
      "    accuracy                           0.87        39\n",
      "   macro avg       0.86      0.87      0.86        39\n",
      "weighted avg       0.87      0.87      0.87        39\n",
      "\n"
     ]
    }
   ],
   "source": [
    "print(classification_report(y_test,y_pred4))"
   ]
  },
  {
   "cell_type": "code",
   "execution_count": 304,
   "id": "5db6fae5",
   "metadata": {},
   "outputs": [
    {
     "name": "stdout",
     "output_type": "stream",
     "text": [
      "The f1 score forGradientBoostingClassifier is 88.0%\n"
     ]
    }
   ],
   "source": [
    "from sklearn.metrics import f1_score\n",
    "from sklearn.metrics import recall_score,precision_score,classification_report,roc_auc_score,roc_curve\n",
    "\n",
    "logistic_f1 = f1_score(y_test, y_pred3)\n",
    "print(f'The f1 score forGradientBoostingClassifier is {round(logistic_f1*100,2)}%')"
   ]
  },
  {
   "cell_type": "code",
   "execution_count": 305,
   "id": "8a9c85f2",
   "metadata": {},
   "outputs": [
    {
     "data": {
      "image/png": "[encoded data removed]",
      "text/plain": [
       "<Figure size 720x432 with 1 Axes>"
      ]
     },
     "metadata": {},
     "output_type": "display_data"
    }
   ],
   "source": [
    "# ROC curve and AUC \n",
    "probs = model4.predict_proba(X_test)\n",
    "# keep probabilities for the positive outcome only\n",
    "probs = probs[:, 1]\n",
    "# calculate AUC\n",
    "log_auc = roc_auc_score(y_test, probs)\n",
    "\n",
    "# calculate roc curve\n",
    "fpr, tpr, thresholds = roc_curve(y_test, probs)\n",
    "# plot curve\n",
    "sns.set_style('whitegrid')\n",
    "plt.figure(figsize=(10,6))\n",
    "plt.plot([0, 1], [0, 1], linestyle='--')\n",
    "plt.plot(fpr, tpr, marker='.')\n",
    "plt.ylabel('True positive rate')\n",
    "plt.xlabel('False positive rate')\n",
    "plt.title(f\"AUC = {round(log_auc,3)}\")\n",
    "plt.show()"
   ]
  },
  {
   "cell_type": "code",
   "execution_count": 306,
   "id": "996226f5",
   "metadata": {},
   "outputs": [],
   "source": [
    "import pickle\n",
    "\n",
    "# save the model to disk\n",
    "filename = 'GradientBoostingClassifier.sav'\n",
    "pickle.dump(model1, open(filename, 'wb'))\n",
    " "
   ]
  },
  {
   "cell_type": "code",
   "execution_count": null,
   "id": "cc0ffbc1",
   "metadata": {},
   "outputs": [],
   "source": []
  },
  {
   "cell_type": "markdown",
   "id": "56cbbd7f",
   "metadata": {},
   "source": [
    "# Compare All Models with Accuracy Graph"
   ]
  },
  {
   "cell_type": "code",
   "execution_count": null,
   "id": "8a5b6dcb",
   "metadata": {},
   "outputs": [],
   "source": []
  },
  {
   "cell_type": "code",
   "execution_count": 307,
   "id": "55bfcb1a",
   "metadata": {},
   "outputs": [
    {
     "data": {
      "text/plain": [
       "{'LogisticRegression(max_iter=200)': 84.61538461538461,\n",
       " 'DecisionTreeClassifier(max_depth=3)': 89.74358974358975,\n",
       " 'RandomForestClassifier(max_depth=6)': 92.3076923076923,\n",
       " 'GradientBoostingClassifier(n_estimators=300)': 87.17948717948718}"
      ]
     },
     "execution_count": 307,
     "metadata": {},
     "output_type": "execute_result"
    }
   ],
   "source": [
    "accuracy"
   ]
  },
  {
   "cell_type": "code",
   "execution_count": 308,
   "id": "36b1cc05",
   "metadata": {},
   "outputs": [
    {
     "data": {
      "image/png": "[encoded data removed]",
      "text/plain": [
       "<Figure size 432x288 with 1 Axes>"
      ]
     },
     "metadata": {},
     "output_type": "display_data"
    }
   ],
   "source": [
    "algos = list(accuracy.keys())\n",
    "accu_val = list(accuracy.values())\n",
    "\n",
    "plt.bar(algos, accu_val, width=0.4)\n",
    "plt.title('Accuracy Differences')\n",
    "plt.xlabel('Algorithms')\n",
    "plt.ylabel('Accuracy')\n",
    "plt.xticks(rotation=45)\n",
    "plt.show()\n"
   ]
  },
  {
   "cell_type": "code",
   "execution_count": 309,
   "id": "38c63cce",
   "metadata": {},
   "outputs": [],
   "source": [
    "from sklearn.model_selection import GridSearchCV, RandomizedSearchCV, cross_val_score\n",
    "import xgboost"
   ]
  },
  {
   "cell_type": "code",
   "execution_count": 310,
   "id": "61afecb5",
   "metadata": {},
   "outputs": [],
   "source": [
    "param_combinations = {\n",
    "    'learning_rate': np.arange(0.05, 0.4, 0.05),\n",
    "    'max_depth': np.arange(3, 10),\n",
    "    'min_child_weight': np.arange(1, 7, 2),\n",
    "    'gamma': np.arange(0.0, 0.5, 0.1),\n",
    "}\n"
   ]
  },
  {
   "cell_type": "code",
   "execution_count": 311,
   "id": "e771f11f",
   "metadata": {},
   "outputs": [
    {
     "data": {
      "text/plain": [
       "{'min_child_weight': 1,\n",
       " 'max_depth': 9,\n",
       " 'learning_rate': 0.1,\n",
       " 'gamma': 0.30000000000000004}"
      ]
     },
     "execution_count": 311,
     "metadata": {},
     "output_type": "execute_result"
    }
   ],
   "source": [
    "param_combinations = {\n",
    "    'learning_rate': np.arange(0.05, 0.4, 0.05),\n",
    "    'max_depth': np.arange(3, 10),\n",
    "    'min_child_weight': np.arange(1, 7, 2),\n",
    "    'gamma': np.arange(0.0, 0.5, 0.1),\n",
    "}\n",
    "\n",
    "XGB = xgboost.XGBClassifier()\n",
    "perfect_params = RandomizedSearchCV(XGB, param_distributions=param_combinations, n_iter=6, n_jobs=-1, scoring='roc_auc')\n",
    "\n",
    "perfect_params.fit(X, y)\n",
    "perfect_params.best_params_\n"
   ]
  },
  {
   "cell_type": "code",
   "execution_count": 312,
   "id": "26783a53",
   "metadata": {},
   "outputs": [],
   "source": [
    "model5 = xgboost.XGBClassifier(min_child_weight=3, max_depth=8, learning_rate=0.05, gamma=0.0)\n",
    "score = cross_val_score(model5, X, y, cv=10)"
   ]
  },
  {
   "cell_type": "code",
   "execution_count": 313,
   "id": "6db56483",
   "metadata": {},
   "outputs": [
    {
     "name": "stdout",
     "output_type": "stream",
     "text": [
      "[0.92307692 0.92307692 1.         0.76923077 0.84615385 1.\n",
      " 1.         0.83333333 0.83333333 0.58333333]\n",
      "Mean:  0.8711538461538464\n"
     ]
    }
   ],
   "source": [
    "print(score)\n",
    "print('Mean: ', score.mean())"
   ]
  },
  {
   "cell_type": "code",
   "execution_count": null,
   "id": "154d3ae5",
   "metadata": {},
   "outputs": [],
   "source": []
  },
  {
   "cell_type": "code",
   "execution_count": null,
   "id": "295ed623",
   "metadata": {},
   "outputs": [],
   "source": []
  }
 ],
 "metadata": {
  "kernelspec": {
   "display_name": "Python 3 (ipykernel)",
   "language": "python",
   "name": "python3"
  },
  "language_info": {
   "codemirror_mode": {
    "name": "ipython",
    "version": 3
   },
   "file_extension": ".py",
   "mimetype": "text/x-python",
   "name": "python",
   "nbconvert_exporter": "python",
   "pygments_lexer": "ipython3",
   "version": "3.9.7"
  }
 },
 "nbformat": 4,
 "nbformat_minor": 5
}
